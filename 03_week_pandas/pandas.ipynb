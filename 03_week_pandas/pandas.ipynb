{
 "cells": [
  {
   "cell_type": "markdown",
   "id": "4b46a8ac",
   "metadata": {},
   "source": [
    "# pandas\n",
    "* series\n",
    "* dataframe"
   ]
  },
  {
   "cell_type": "code",
   "execution_count": 3,
   "id": "b3dc8dee",
   "metadata": {},
   "outputs": [
    {
     "data": {
      "text/plain": [
       "['a', 'b', 'c', 'd']"
      ]
     },
     "metadata": {},
     "output_type": "display_data"
    },
    {
     "data": {
      "text/plain": [
       "list"
      ]
     },
     "metadata": {},
     "output_type": "display_data"
    }
   ],
   "source": [
    "l1 = ['a','b','c','d']\n",
    "display(l1)\n",
    "display(type(l1))"
   ]
  },
  {
   "cell_type": "code",
   "execution_count": 2,
   "id": "dd721678",
   "metadata": {},
   "outputs": [],
   "source": [
    "import pandas as pd"
   ]
  },
  {
   "cell_type": "code",
   "execution_count": 5,
   "id": "f9136aaa",
   "metadata": {},
   "outputs": [
    {
     "data": {
      "text/plain": [
       "['a', 'b', 'c', 'd']"
      ]
     },
     "metadata": {},
     "output_type": "display_data"
    },
    {
     "data": {
      "text/plain": [
       "list"
      ]
     },
     "metadata": {},
     "output_type": "display_data"
    },
    {
     "name": "stdout",
     "output_type": "stream",
     "text": [
      "============\n"
     ]
    },
    {
     "data": {
      "text/plain": [
       "0    a\n",
       "1    b\n",
       "2    c\n",
       "3    d\n",
       "dtype: object"
      ]
     },
     "metadata": {},
     "output_type": "display_data"
    },
    {
     "data": {
      "text/plain": [
       "pandas.core.series.Series"
      ]
     },
     "metadata": {},
     "output_type": "display_data"
    }
   ],
   "source": [
    "# list\n",
    "\n",
    "l1 = ['a','b','c','d']\n",
    "display(l1)\n",
    "display(type(l1))\n",
    "print('============')\n",
    "s1 = pd.Series(l1)\n",
    "display(s1)\n",
    "display(type(s1))"
   ]
  },
  {
   "cell_type": "code",
   "execution_count": 6,
   "id": "f8e75213",
   "metadata": {},
   "outputs": [
    {
     "data": {
      "text/plain": [
       "0    a\n",
       "1    b\n",
       "2    c\n",
       "3    d\n",
       "dtype: object"
      ]
     },
     "execution_count": 6,
     "metadata": {},
     "output_type": "execute_result"
    }
   ],
   "source": [
    "s1"
   ]
  },
  {
   "cell_type": "code",
   "execution_count": 8,
   "id": "f7aab31c",
   "metadata": {},
   "outputs": [
    {
     "data": {
      "text/plain": [
       "0    1\n",
       "1    2\n",
       "2    3\n",
       "3    5\n",
       "dtype: int64"
      ]
     },
     "execution_count": 8,
     "metadata": {},
     "output_type": "execute_result"
    }
   ],
   "source": [
    "s2 = pd.Series([1,2,3,5])\n",
    "s2"
   ]
  },
  {
   "cell_type": "code",
   "execution_count": 7,
   "id": "4f811876",
   "metadata": {},
   "outputs": [
    {
     "data": {
      "text/plain": [
       "['a', 'b', 'c', 'd']"
      ]
     },
     "execution_count": 7,
     "metadata": {},
     "output_type": "execute_result"
    }
   ],
   "source": [
    "l1"
   ]
  },
  {
   "cell_type": "code",
   "execution_count": 9,
   "id": "e6692016",
   "metadata": {},
   "outputs": [
    {
     "data": {
      "text/plain": [
       "0     1.0\n",
       "1     7.0\n",
       "2     8.0\n",
       "3     9.0\n",
       "4    10.2\n",
       "5    78.0\n",
       "dtype: float64"
      ]
     },
     "metadata": {},
     "output_type": "display_data"
    },
    {
     "data": {
      "text/plain": [
       "pandas.core.series.Series"
      ]
     },
     "metadata": {},
     "output_type": "display_data"
    }
   ],
   "source": [
    "# tuple\n",
    "t1 = (1,7,8,9,10.2,78)\n",
    "s1 = pd.Series(t1)\n",
    "\n",
    "display(s1)\n",
    "display(type(s1))"
   ]
  },
  {
   "cell_type": "code",
   "execution_count": 10,
   "id": "033da0ae",
   "metadata": {},
   "outputs": [
    {
     "data": {
      "text/plain": [
       "a           1\n",
       "b    pakistan\n",
       "c          20\n",
       "d         100\n",
       "dtype: object"
      ]
     },
     "execution_count": 10,
     "metadata": {},
     "output_type": "execute_result"
    }
   ],
   "source": [
    "# Dictionary\n",
    "d1 = {\n",
    "    'a':1,\n",
    "    'b': 'pakistan',\n",
    "    'c':20,\n",
    "    'd':100\n",
    "}\n",
    "\n",
    "s1 = pd.Series(d1)\n",
    "s1"
   ]
  },
  {
   "cell_type": "code",
   "execution_count": 11,
   "id": "33700dcf",
   "metadata": {},
   "outputs": [
    {
     "data": {
      "text/plain": [
       "a    100\n",
       "b    200\n",
       "c    300\n",
       "dtype: int64"
      ]
     },
     "metadata": {},
     "output_type": "display_data"
    },
    {
     "data": {
      "text/plain": [
       "a    100\n",
       "b    200\n",
       "c    300\n",
       "dtype: int64"
      ]
     },
     "metadata": {},
     "output_type": "display_data"
    }
   ],
   "source": [
    "k = ['a','b','c']\n",
    "v = [100,200,300]\n",
    "\n",
    "\n",
    "s1 = pd.Series(data=v, index=k)\n",
    "display(s1)\n",
    "s1 = pd.Series(v,k)\n",
    "display(s1)"
   ]
  },
  {
   "cell_type": "code",
   "execution_count": 17,
   "id": "67d4c549",
   "metadata": {},
   "outputs": [
    {
     "data": {
      "text/plain": [
       "0    1\n",
       "1    2\n",
       "2    3\n",
       "3    5\n",
       "Name: rollnumber, dtype: int64"
      ]
     },
     "execution_count": 17,
     "metadata": {},
     "output_type": "execute_result"
    }
   ],
   "source": [
    "s2 = pd.Series([1,2,3,5], name='rollnumber')\n",
    "s2"
   ]
  },
  {
   "cell_type": "code",
   "execution_count": 18,
   "id": "e7b8ec58",
   "metadata": {},
   "outputs": [
    {
     "data": {
      "text/plain": [
       "RangeIndex(start=0, stop=4, step=1)"
      ]
     },
     "metadata": {},
     "output_type": "display_data"
    },
    {
     "data": {
      "text/plain": [
       "array([1, 2, 3, 5])"
      ]
     },
     "metadata": {},
     "output_type": "display_data"
    },
    {
     "data": {
      "text/plain": [
       "'rollnumber'"
      ]
     },
     "metadata": {},
     "output_type": "display_data"
    }
   ],
   "source": [
    "display(s2.index)\n",
    "display(s2.values)\n",
    "display(s2.name)"
   ]
  },
  {
   "cell_type": "raw",
   "id": "4de4e8eb",
   "metadata": {},
   "source": [
    "dir(s2)"
   ]
  },
  {
   "cell_type": "code",
   "execution_count": null,
   "id": "077e9180",
   "metadata": {},
   "outputs": [],
   "source": [
    "create series \n",
    "* list\n",
    "* tuple\n",
    "* dictionary\n",
    "* key,value pass in index and value argument"
   ]
  },
  {
   "cell_type": "markdown",
   "id": "502be6b4",
   "metadata": {},
   "source": [
    "# DataFrame"
   ]
  },
  {
   "cell_type": "code",
   "execution_count": 20,
   "id": "f47d1925",
   "metadata": {},
   "outputs": [
    {
     "data": {
      "text/plain": [
       "[[1, 2, 3], [4, 5, 6], [7, 8, 9]]"
      ]
     },
     "metadata": {},
     "output_type": "display_data"
    },
    {
     "name": "stdout",
     "output_type": "stream",
     "text": [
      "<class 'list'>\n"
     ]
    }
   ],
   "source": [
    "data = [[1,2,3],\n",
    "       [4,5,6],\n",
    "       [7,8,9]]\n",
    "\n",
    "display(data)\n",
    "print(type(data))"
   ]
  },
  {
   "cell_type": "code",
   "execution_count": 22,
   "id": "ddbba96b",
   "metadata": {},
   "outputs": [
    {
     "name": "stdout",
     "output_type": "stream",
     "text": [
      "<class 'pandas.core.frame.DataFrame'>\n"
     ]
    },
    {
     "data": {
      "text/html": [
       "<div>\n",
       "<style scoped>\n",
       "    .dataframe tbody tr th:only-of-type {\n",
       "        vertical-align: middle;\n",
       "    }\n",
       "\n",
       "    .dataframe tbody tr th {\n",
       "        vertical-align: top;\n",
       "    }\n",
       "\n",
       "    .dataframe thead th {\n",
       "        text-align: right;\n",
       "    }\n",
       "</style>\n",
       "<table border=\"1\" class=\"dataframe\">\n",
       "  <thead>\n",
       "    <tr style=\"text-align: right;\">\n",
       "      <th></th>\n",
       "      <th>0</th>\n",
       "      <th>1</th>\n",
       "      <th>2</th>\n",
       "    </tr>\n",
       "  </thead>\n",
       "  <tbody>\n",
       "    <tr>\n",
       "      <th>0</th>\n",
       "      <td>1</td>\n",
       "      <td>2</td>\n",
       "      <td>3</td>\n",
       "    </tr>\n",
       "    <tr>\n",
       "      <th>1</th>\n",
       "      <td>4</td>\n",
       "      <td>5</td>\n",
       "      <td>6</td>\n",
       "    </tr>\n",
       "    <tr>\n",
       "      <th>2</th>\n",
       "      <td>7</td>\n",
       "      <td>8</td>\n",
       "      <td>9</td>\n",
       "    </tr>\n",
       "  </tbody>\n",
       "</table>\n",
       "</div>"
      ],
      "text/plain": [
       "   0  1  2\n",
       "0  1  2  3\n",
       "1  4  5  6\n",
       "2  7  8  9"
      ]
     },
     "execution_count": 22,
     "metadata": {},
     "output_type": "execute_result"
    }
   ],
   "source": [
    "data = [[1,2,3],\n",
    "       [4,5,6],\n",
    "       [7,8,9]]\n",
    "\n",
    "df = pd.DataFrame(data) # list of list\n",
    "print(type(df))\n",
    "df"
   ]
  },
  {
   "cell_type": "code",
   "execution_count": 44,
   "id": "2ef82f0d",
   "metadata": {},
   "outputs": [
    {
     "name": "stdout",
     "output_type": "stream",
     "text": [
      "<class 'pandas.core.frame.DataFrame'>\n"
     ]
    },
    {
     "data": {
      "text/html": [
       "<div>\n",
       "<style scoped>\n",
       "    .dataframe tbody tr th:only-of-type {\n",
       "        vertical-align: middle;\n",
       "    }\n",
       "\n",
       "    .dataframe tbody tr th {\n",
       "        vertical-align: top;\n",
       "    }\n",
       "\n",
       "    .dataframe thead th {\n",
       "        text-align: right;\n",
       "    }\n",
       "</style>\n",
       "<table border=\"1\" class=\"dataframe\">\n",
       "  <thead>\n",
       "    <tr style=\"text-align: right;\">\n",
       "      <th></th>\n",
       "      <th>id</th>\n",
       "      <th>name</th>\n",
       "      <th>course</th>\n",
       "    </tr>\n",
       "  </thead>\n",
       "  <tbody>\n",
       "    <tr>\n",
       "      <th>0</th>\n",
       "      <td>1</td>\n",
       "      <td>2</td>\n",
       "      <td>3</td>\n",
       "    </tr>\n",
       "    <tr>\n",
       "      <th>1</th>\n",
       "      <td>4</td>\n",
       "      <td>5</td>\n",
       "      <td>6</td>\n",
       "    </tr>\n",
       "    <tr>\n",
       "      <th>2</th>\n",
       "      <td>7</td>\n",
       "      <td>8</td>\n",
       "      <td>9</td>\n",
       "    </tr>\n",
       "  </tbody>\n",
       "</table>\n",
       "</div>"
      ],
      "text/plain": [
       "   id  name  course\n",
       "0   1     2       3\n",
       "1   4     5       6\n",
       "2   7     8       9"
      ]
     },
     "execution_count": 44,
     "metadata": {},
     "output_type": "execute_result"
    }
   ],
   "source": [
    "data = [[1,2,3],\n",
    "       [4,5,6],\n",
    "       [7,8,9]]\n",
    "\n",
    "df = pd.DataFrame(data,\n",
    "                  columns = ['id','name','course']) # list of list\n",
    "print(type(df))\n",
    "df"
   ]
  },
  {
   "cell_type": "code",
   "execution_count": 45,
   "id": "395ca444",
   "metadata": {},
   "outputs": [
    {
     "name": "stdout",
     "output_type": "stream",
     "text": [
      "<class 'pandas.core.frame.DataFrame'>\n"
     ]
    },
    {
     "data": {
      "text/html": [
       "<div>\n",
       "<style scoped>\n",
       "    .dataframe tbody tr th:only-of-type {\n",
       "        vertical-align: middle;\n",
       "    }\n",
       "\n",
       "    .dataframe tbody tr th {\n",
       "        vertical-align: top;\n",
       "    }\n",
       "\n",
       "    .dataframe thead th {\n",
       "        text-align: right;\n",
       "    }\n",
       "</style>\n",
       "<table border=\"1\" class=\"dataframe\">\n",
       "  <thead>\n",
       "    <tr style=\"text-align: right;\">\n",
       "      <th></th>\n",
       "      <th>id</th>\n",
       "      <th>name</th>\n",
       "      <th>course</th>\n",
       "    </tr>\n",
       "  </thead>\n",
       "  <tbody>\n",
       "    <tr>\n",
       "      <th>a</th>\n",
       "      <td>1</td>\n",
       "      <td>2</td>\n",
       "      <td>3</td>\n",
       "    </tr>\n",
       "    <tr>\n",
       "      <th>b</th>\n",
       "      <td>4</td>\n",
       "      <td>5</td>\n",
       "      <td>6</td>\n",
       "    </tr>\n",
       "    <tr>\n",
       "      <th>c</th>\n",
       "      <td>7</td>\n",
       "      <td>8</td>\n",
       "      <td>9</td>\n",
       "    </tr>\n",
       "  </tbody>\n",
       "</table>\n",
       "</div>"
      ],
      "text/plain": [
       "   id  name  course\n",
       "a   1     2       3\n",
       "b   4     5       6\n",
       "c   7     8       9"
      ]
     },
     "execution_count": 45,
     "metadata": {},
     "output_type": "execute_result"
    }
   ],
   "source": [
    "data = [[1,2,3],\n",
    "       [4,5,6],\n",
    "       [7,8,9]]\n",
    "\n",
    "df = pd.DataFrame(data,\n",
    "                  columns = ['id','name','course'],\n",
    "                 index=['a','b','c']) # list of list\n",
    "print(type(df))\n",
    "df"
   ]
  },
  {
   "cell_type": "code",
   "execution_count": 23,
   "id": "08007e59",
   "metadata": {},
   "outputs": [
    {
     "name": "stdout",
     "output_type": "stream",
     "text": [
      "<class 'pandas.core.frame.DataFrame'>\n"
     ]
    },
    {
     "data": {
      "text/html": [
       "<div>\n",
       "<style scoped>\n",
       "    .dataframe tbody tr th:only-of-type {\n",
       "        vertical-align: middle;\n",
       "    }\n",
       "\n",
       "    .dataframe tbody tr th {\n",
       "        vertical-align: top;\n",
       "    }\n",
       "\n",
       "    .dataframe thead th {\n",
       "        text-align: right;\n",
       "    }\n",
       "</style>\n",
       "<table border=\"1\" class=\"dataframe\">\n",
       "  <thead>\n",
       "    <tr style=\"text-align: right;\">\n",
       "      <th></th>\n",
       "      <th>0</th>\n",
       "      <th>1</th>\n",
       "      <th>2</th>\n",
       "    </tr>\n",
       "  </thead>\n",
       "  <tbody>\n",
       "    <tr>\n",
       "      <th>0</th>\n",
       "      <td>1</td>\n",
       "      <td>2</td>\n",
       "      <td>3</td>\n",
       "    </tr>\n",
       "    <tr>\n",
       "      <th>1</th>\n",
       "      <td>4</td>\n",
       "      <td>5</td>\n",
       "      <td>6</td>\n",
       "    </tr>\n",
       "    <tr>\n",
       "      <th>2</th>\n",
       "      <td>7</td>\n",
       "      <td>8</td>\n",
       "      <td>9</td>\n",
       "    </tr>\n",
       "  </tbody>\n",
       "</table>\n",
       "</div>"
      ],
      "text/plain": [
       "   0  1  2\n",
       "0  1  2  3\n",
       "1  4  5  6\n",
       "2  7  8  9"
      ]
     },
     "execution_count": 23,
     "metadata": {},
     "output_type": "execute_result"
    }
   ],
   "source": [
    "data = ((1,2,3),\n",
    "       (4,5,6),\n",
    "       (7,8,9))\n",
    "\n",
    "df = pd.DataFrame(data) # list of list\n",
    "print(type(df))\n",
    "df"
   ]
  },
  {
   "cell_type": "code",
   "execution_count": 25,
   "id": "d0cef4f0",
   "metadata": {},
   "outputs": [
    {
     "data": {
      "text/plain": [
       "array([[ 4,  9, 50, 95,  7, 63, 10, 84, 20, 30],\n",
       "       [20, 25, 93, 87, 61, 35, 33, 12, 18,  4],\n",
       "       [66, 56, 61, 47, 17, 28, 41, 73, 99, 19],\n",
       "       [ 6, 61, 96, 92, 54, 71, 77, 60, 26, 48],\n",
       "       [79, 25, 95, 35, 34, 83, 52, 30, 92, 61],\n",
       "       [65, 26, 38, 53, 29, 51,  6, 20, 99, 40],\n",
       "       [83, 98, 89, 86, 63, 28, 12, 31, 56, 54],\n",
       "       [81, 42, 38, 84, 62, 66, 82,  5, 14, 88],\n",
       "       [77, 62, 81, 17, 94,  7, 11, 95, 40, 67],\n",
       "       [11, 67, 72, 46, 76, 89, 71, 11,  8, 77]])"
      ]
     },
     "execution_count": 25,
     "metadata": {},
     "output_type": "execute_result"
    }
   ],
   "source": [
    "import numpy as np\n",
    "\n",
    "data = np.random.randint(1,100, size=(10,10))\n",
    "data"
   ]
  },
  {
   "cell_type": "code",
   "execution_count": 27,
   "id": "6563b406",
   "metadata": {},
   "outputs": [
    {
     "data": {
      "text/html": [
       "<div>\n",
       "<style scoped>\n",
       "    .dataframe tbody tr th:only-of-type {\n",
       "        vertical-align: middle;\n",
       "    }\n",
       "\n",
       "    .dataframe tbody tr th {\n",
       "        vertical-align: top;\n",
       "    }\n",
       "\n",
       "    .dataframe thead th {\n",
       "        text-align: right;\n",
       "    }\n",
       "</style>\n",
       "<table border=\"1\" class=\"dataframe\">\n",
       "  <thead>\n",
       "    <tr style=\"text-align: right;\">\n",
       "      <th></th>\n",
       "      <th>0</th>\n",
       "      <th>1</th>\n",
       "      <th>2</th>\n",
       "      <th>3</th>\n",
       "      <th>4</th>\n",
       "      <th>5</th>\n",
       "      <th>6</th>\n",
       "      <th>7</th>\n",
       "      <th>8</th>\n",
       "      <th>9</th>\n",
       "    </tr>\n",
       "  </thead>\n",
       "  <tbody>\n",
       "    <tr>\n",
       "      <th>0</th>\n",
       "      <td>99</td>\n",
       "      <td>7</td>\n",
       "      <td>58</td>\n",
       "      <td>9</td>\n",
       "      <td>4</td>\n",
       "      <td>5</td>\n",
       "      <td>83</td>\n",
       "      <td>19</td>\n",
       "      <td>76</td>\n",
       "      <td>8</td>\n",
       "    </tr>\n",
       "    <tr>\n",
       "      <th>1</th>\n",
       "      <td>71</td>\n",
       "      <td>53</td>\n",
       "      <td>9</td>\n",
       "      <td>50</td>\n",
       "      <td>98</td>\n",
       "      <td>86</td>\n",
       "      <td>88</td>\n",
       "      <td>99</td>\n",
       "      <td>73</td>\n",
       "      <td>38</td>\n",
       "    </tr>\n",
       "    <tr>\n",
       "      <th>2</th>\n",
       "      <td>73</td>\n",
       "      <td>70</td>\n",
       "      <td>21</td>\n",
       "      <td>21</td>\n",
       "      <td>76</td>\n",
       "      <td>47</td>\n",
       "      <td>64</td>\n",
       "      <td>91</td>\n",
       "      <td>42</td>\n",
       "      <td>41</td>\n",
       "    </tr>\n",
       "    <tr>\n",
       "      <th>3</th>\n",
       "      <td>50</td>\n",
       "      <td>84</td>\n",
       "      <td>53</td>\n",
       "      <td>90</td>\n",
       "      <td>84</td>\n",
       "      <td>50</td>\n",
       "      <td>3</td>\n",
       "      <td>33</td>\n",
       "      <td>7</td>\n",
       "      <td>25</td>\n",
       "    </tr>\n",
       "    <tr>\n",
       "      <th>4</th>\n",
       "      <td>97</td>\n",
       "      <td>54</td>\n",
       "      <td>63</td>\n",
       "      <td>51</td>\n",
       "      <td>91</td>\n",
       "      <td>55</td>\n",
       "      <td>2</td>\n",
       "      <td>8</td>\n",
       "      <td>11</td>\n",
       "      <td>34</td>\n",
       "    </tr>\n",
       "    <tr>\n",
       "      <th>5</th>\n",
       "      <td>14</td>\n",
       "      <td>78</td>\n",
       "      <td>17</td>\n",
       "      <td>7</td>\n",
       "      <td>2</td>\n",
       "      <td>87</td>\n",
       "      <td>10</td>\n",
       "      <td>30</td>\n",
       "      <td>47</td>\n",
       "      <td>63</td>\n",
       "    </tr>\n",
       "    <tr>\n",
       "      <th>6</th>\n",
       "      <td>99</td>\n",
       "      <td>15</td>\n",
       "      <td>20</td>\n",
       "      <td>10</td>\n",
       "      <td>10</td>\n",
       "      <td>82</td>\n",
       "      <td>45</td>\n",
       "      <td>88</td>\n",
       "      <td>47</td>\n",
       "      <td>26</td>\n",
       "    </tr>\n",
       "    <tr>\n",
       "      <th>7</th>\n",
       "      <td>12</td>\n",
       "      <td>55</td>\n",
       "      <td>98</td>\n",
       "      <td>2</td>\n",
       "      <td>46</td>\n",
       "      <td>33</td>\n",
       "      <td>87</td>\n",
       "      <td>50</td>\n",
       "      <td>17</td>\n",
       "      <td>54</td>\n",
       "    </tr>\n",
       "    <tr>\n",
       "      <th>8</th>\n",
       "      <td>6</td>\n",
       "      <td>71</td>\n",
       "      <td>61</td>\n",
       "      <td>29</td>\n",
       "      <td>71</td>\n",
       "      <td>62</td>\n",
       "      <td>81</td>\n",
       "      <td>61</td>\n",
       "      <td>8</td>\n",
       "      <td>9</td>\n",
       "    </tr>\n",
       "    <tr>\n",
       "      <th>9</th>\n",
       "      <td>52</td>\n",
       "      <td>46</td>\n",
       "      <td>38</td>\n",
       "      <td>88</td>\n",
       "      <td>53</td>\n",
       "      <td>92</td>\n",
       "      <td>22</td>\n",
       "      <td>91</td>\n",
       "      <td>71</td>\n",
       "      <td>7</td>\n",
       "    </tr>\n",
       "  </tbody>\n",
       "</table>\n",
       "</div>"
      ],
      "text/plain": [
       "    0   1   2   3   4   5   6   7   8   9\n",
       "0  99   7  58   9   4   5  83  19  76   8\n",
       "1  71  53   9  50  98  86  88  99  73  38\n",
       "2  73  70  21  21  76  47  64  91  42  41\n",
       "3  50  84  53  90  84  50   3  33   7  25\n",
       "4  97  54  63  51  91  55   2   8  11  34\n",
       "5  14  78  17   7   2  87  10  30  47  63\n",
       "6  99  15  20  10  10  82  45  88  47  26\n",
       "7  12  55  98   2  46  33  87  50  17  54\n",
       "8   6  71  61  29  71  62  81  61   8   9\n",
       "9  52  46  38  88  53  92  22  91  71   7"
      ]
     },
     "execution_count": 27,
     "metadata": {},
     "output_type": "execute_result"
    }
   ],
   "source": [
    "data = np.random.randint(1,100, size=(10,10))\n",
    "\n",
    "df = pd.DataFrame(data)\n",
    "df"
   ]
  },
  {
   "cell_type": "markdown",
   "id": "0fbdbfda",
   "metadata": {},
   "source": [
    "# create dataframe with dictionary"
   ]
  },
  {
   "cell_type": "code",
   "execution_count": 47,
   "id": "331338f2",
   "metadata": {},
   "outputs": [
    {
     "data": {
      "text/plain": [
       "{'id': [1, 2, 3],\n",
       " 'name': ['Hamza', 'Asif', 'Junaid'],\n",
       " 'NED course': ['AI', 'DataVisualization', 'DS']}"
      ]
     },
     "metadata": {},
     "output_type": "display_data"
    },
    {
     "data": {
      "text/html": [
       "<div>\n",
       "<style scoped>\n",
       "    .dataframe tbody tr th:only-of-type {\n",
       "        vertical-align: middle;\n",
       "    }\n",
       "\n",
       "    .dataframe tbody tr th {\n",
       "        vertical-align: top;\n",
       "    }\n",
       "\n",
       "    .dataframe thead th {\n",
       "        text-align: right;\n",
       "    }\n",
       "</style>\n",
       "<table border=\"1\" class=\"dataframe\">\n",
       "  <thead>\n",
       "    <tr style=\"text-align: right;\">\n",
       "      <th></th>\n",
       "      <th>id</th>\n",
       "      <th>name</th>\n",
       "      <th>NED course</th>\n",
       "    </tr>\n",
       "  </thead>\n",
       "  <tbody>\n",
       "    <tr>\n",
       "      <th>0</th>\n",
       "      <td>1</td>\n",
       "      <td>Hamza</td>\n",
       "      <td>AI</td>\n",
       "    </tr>\n",
       "    <tr>\n",
       "      <th>1</th>\n",
       "      <td>2</td>\n",
       "      <td>Asif</td>\n",
       "      <td>DataVisualization</td>\n",
       "    </tr>\n",
       "    <tr>\n",
       "      <th>2</th>\n",
       "      <td>3</td>\n",
       "      <td>Junaid</td>\n",
       "      <td>DS</td>\n",
       "    </tr>\n",
       "  </tbody>\n",
       "</table>\n",
       "</div>"
      ],
      "text/plain": [
       "   id    name         NED course\n",
       "0   1   Hamza                 AI\n",
       "1   2    Asif  DataVisualization\n",
       "2   3  Junaid                 DS"
      ]
     },
     "execution_count": 47,
     "metadata": {},
     "output_type": "execute_result"
    }
   ],
   "source": [
    "d1 = {\n",
    "    \"id\":[1,2,3],\n",
    "    \"name\":['Hamza',\"Asif\",'Junaid'],\n",
    "    'NED course':['AI',\"DataVisualization\",'DS']\n",
    "}\n",
    "display(d1)\n",
    "\n",
    "df = pd.DataFrame(d1)\n",
    "df"
   ]
  },
  {
   "cell_type": "markdown",
   "id": "314e38fe",
   "metadata": {},
   "source": [
    "# extract columns from dataframe"
   ]
  },
  {
   "cell_type": "markdown",
   "id": "2ecee139",
   "metadata": {},
   "source": [
    "* dataframe.column_name\n",
    "    * space not allowed in column name\n",
    "    * we can't add new column\n",
    "* dataframe['column name']"
   ]
  },
  {
   "cell_type": "code",
   "execution_count": 48,
   "id": "97f8e239",
   "metadata": {},
   "outputs": [
    {
     "data": {
      "text/html": [
       "<div>\n",
       "<style scoped>\n",
       "    .dataframe tbody tr th:only-of-type {\n",
       "        vertical-align: middle;\n",
       "    }\n",
       "\n",
       "    .dataframe tbody tr th {\n",
       "        vertical-align: top;\n",
       "    }\n",
       "\n",
       "    .dataframe thead th {\n",
       "        text-align: right;\n",
       "    }\n",
       "</style>\n",
       "<table border=\"1\" class=\"dataframe\">\n",
       "  <thead>\n",
       "    <tr style=\"text-align: right;\">\n",
       "      <th></th>\n",
       "      <th>id</th>\n",
       "      <th>name</th>\n",
       "      <th>NED course</th>\n",
       "    </tr>\n",
       "  </thead>\n",
       "  <tbody>\n",
       "    <tr>\n",
       "      <th>0</th>\n",
       "      <td>1</td>\n",
       "      <td>Hamza</td>\n",
       "      <td>AI</td>\n",
       "    </tr>\n",
       "    <tr>\n",
       "      <th>1</th>\n",
       "      <td>2</td>\n",
       "      <td>Asif</td>\n",
       "      <td>DataVisualization</td>\n",
       "    </tr>\n",
       "    <tr>\n",
       "      <th>2</th>\n",
       "      <td>3</td>\n",
       "      <td>Junaid</td>\n",
       "      <td>DS</td>\n",
       "    </tr>\n",
       "  </tbody>\n",
       "</table>\n",
       "</div>"
      ],
      "text/plain": [
       "   id    name         NED course\n",
       "0   1   Hamza                 AI\n",
       "1   2    Asif  DataVisualization\n",
       "2   3  Junaid                 DS"
      ]
     },
     "metadata": {},
     "output_type": "display_data"
    },
    {
     "name": "stdout",
     "output_type": "stream",
     "text": [
      "<class 'pandas.core.frame.DataFrame'>\n",
      "<class 'pandas.core.series.Series'>\n"
     ]
    },
    {
     "data": {
      "text/plain": [
       "0    1\n",
       "1    2\n",
       "2    3\n",
       "Name: id, dtype: int64"
      ]
     },
     "execution_count": 48,
     "metadata": {},
     "output_type": "execute_result"
    }
   ],
   "source": [
    "display(df)\n",
    "print(type(df))\n",
    "sid = df.id\n",
    "\n",
    "print(type(sid), )\n",
    "sid"
   ]
  },
  {
   "cell_type": "code",
   "execution_count": 49,
   "id": "abe62fdc",
   "metadata": {},
   "outputs": [
    {
     "data": {
      "text/html": [
       "<div>\n",
       "<style scoped>\n",
       "    .dataframe tbody tr th:only-of-type {\n",
       "        vertical-align: middle;\n",
       "    }\n",
       "\n",
       "    .dataframe tbody tr th {\n",
       "        vertical-align: top;\n",
       "    }\n",
       "\n",
       "    .dataframe thead th {\n",
       "        text-align: right;\n",
       "    }\n",
       "</style>\n",
       "<table border=\"1\" class=\"dataframe\">\n",
       "  <thead>\n",
       "    <tr style=\"text-align: right;\">\n",
       "      <th></th>\n",
       "      <th>id</th>\n",
       "      <th>name</th>\n",
       "      <th>NED course</th>\n",
       "    </tr>\n",
       "  </thead>\n",
       "  <tbody>\n",
       "    <tr>\n",
       "      <th>0</th>\n",
       "      <td>1</td>\n",
       "      <td>Hamza</td>\n",
       "      <td>AI</td>\n",
       "    </tr>\n",
       "    <tr>\n",
       "      <th>1</th>\n",
       "      <td>2</td>\n",
       "      <td>Asif</td>\n",
       "      <td>DataVisualization</td>\n",
       "    </tr>\n",
       "    <tr>\n",
       "      <th>2</th>\n",
       "      <td>3</td>\n",
       "      <td>Junaid</td>\n",
       "      <td>DS</td>\n",
       "    </tr>\n",
       "  </tbody>\n",
       "</table>\n",
       "</div>"
      ],
      "text/plain": [
       "   id    name         NED course\n",
       "0   1   Hamza                 AI\n",
       "1   2    Asif  DataVisualization\n",
       "2   3  Junaid                 DS"
      ]
     },
     "metadata": {},
     "output_type": "display_data"
    },
    {
     "data": {
      "text/plain": [
       "0     Hamza\n",
       "1      Asif\n",
       "2    Junaid\n",
       "Name: name, dtype: object"
      ]
     },
     "execution_count": 49,
     "metadata": {},
     "output_type": "execute_result"
    }
   ],
   "source": [
    "display(df)\n",
    "\n",
    "sname = df.name\n",
    "\n",
    "sname"
   ]
  },
  {
   "cell_type": "code",
   "execution_count": 50,
   "id": "c0f2fece",
   "metadata": {},
   "outputs": [
    {
     "ename": "SyntaxError",
     "evalue": "invalid syntax (<ipython-input-50-9dd94fc3cd02>, line 3)",
     "output_type": "error",
     "traceback": [
      "\u001b[0;36m  File \u001b[0;32m\"<ipython-input-50-9dd94fc3cd02>\"\u001b[0;36m, line \u001b[0;32m3\u001b[0m\n\u001b[0;31m    scourse = df.NED course\u001b[0m\n\u001b[0m                          ^\u001b[0m\n\u001b[0;31mSyntaxError\u001b[0m\u001b[0;31m:\u001b[0m invalid syntax\n"
     ]
    }
   ],
   "source": [
    "display(df)\n",
    "\n",
    "scourse = df.NED course\n",
    "scourse\n"
   ]
  },
  {
   "cell_type": "code",
   "execution_count": 51,
   "id": "01a9b3a9",
   "metadata": {},
   "outputs": [
    {
     "data": {
      "text/html": [
       "<div>\n",
       "<style scoped>\n",
       "    .dataframe tbody tr th:only-of-type {\n",
       "        vertical-align: middle;\n",
       "    }\n",
       "\n",
       "    .dataframe tbody tr th {\n",
       "        vertical-align: top;\n",
       "    }\n",
       "\n",
       "    .dataframe thead th {\n",
       "        text-align: right;\n",
       "    }\n",
       "</style>\n",
       "<table border=\"1\" class=\"dataframe\">\n",
       "  <thead>\n",
       "    <tr style=\"text-align: right;\">\n",
       "      <th></th>\n",
       "      <th>id</th>\n",
       "      <th>name</th>\n",
       "      <th>NED course</th>\n",
       "    </tr>\n",
       "  </thead>\n",
       "  <tbody>\n",
       "    <tr>\n",
       "      <th>0</th>\n",
       "      <td>1</td>\n",
       "      <td>Hamza</td>\n",
       "      <td>AI</td>\n",
       "    </tr>\n",
       "    <tr>\n",
       "      <th>1</th>\n",
       "      <td>2</td>\n",
       "      <td>Asif</td>\n",
       "      <td>DataVisualization</td>\n",
       "    </tr>\n",
       "    <tr>\n",
       "      <th>2</th>\n",
       "      <td>3</td>\n",
       "      <td>Junaid</td>\n",
       "      <td>DS</td>\n",
       "    </tr>\n",
       "  </tbody>\n",
       "</table>\n",
       "</div>"
      ],
      "text/plain": [
       "   id    name         NED course\n",
       "0   1   Hamza                 AI\n",
       "1   2    Asif  DataVisualization\n",
       "2   3  Junaid                 DS"
      ]
     },
     "metadata": {},
     "output_type": "display_data"
    },
    {
     "data": {
      "text/plain": [
       "0                   AI\n",
       "1    DataVisualization\n",
       "2                   DS\n",
       "Name: NED course, dtype: object"
      ]
     },
     "execution_count": 51,
     "metadata": {},
     "output_type": "execute_result"
    }
   ],
   "source": [
    "display(df)\n",
    "\n",
    "scourse = df['NED course']\n",
    "scourse"
   ]
  },
  {
   "cell_type": "code",
   "execution_count": 52,
   "id": "255c4019",
   "metadata": {},
   "outputs": [
    {
     "data": {
      "text/html": [
       "<div>\n",
       "<style scoped>\n",
       "    .dataframe tbody tr th:only-of-type {\n",
       "        vertical-align: middle;\n",
       "    }\n",
       "\n",
       "    .dataframe tbody tr th {\n",
       "        vertical-align: top;\n",
       "    }\n",
       "\n",
       "    .dataframe thead th {\n",
       "        text-align: right;\n",
       "    }\n",
       "</style>\n",
       "<table border=\"1\" class=\"dataframe\">\n",
       "  <thead>\n",
       "    <tr style=\"text-align: right;\">\n",
       "      <th></th>\n",
       "      <th>id</th>\n",
       "      <th>name</th>\n",
       "      <th>NED course</th>\n",
       "    </tr>\n",
       "  </thead>\n",
       "  <tbody>\n",
       "    <tr>\n",
       "      <th>0</th>\n",
       "      <td>1</td>\n",
       "      <td>Hamza</td>\n",
       "      <td>AI</td>\n",
       "    </tr>\n",
       "    <tr>\n",
       "      <th>1</th>\n",
       "      <td>2</td>\n",
       "      <td>Asif</td>\n",
       "      <td>DataVisualization</td>\n",
       "    </tr>\n",
       "    <tr>\n",
       "      <th>2</th>\n",
       "      <td>3</td>\n",
       "      <td>Junaid</td>\n",
       "      <td>DS</td>\n",
       "    </tr>\n",
       "  </tbody>\n",
       "</table>\n",
       "</div>"
      ],
      "text/plain": [
       "   id    name         NED course\n",
       "0   1   Hamza                 AI\n",
       "1   2    Asif  DataVisualization\n",
       "2   3  Junaid                 DS"
      ]
     },
     "execution_count": 52,
     "metadata": {},
     "output_type": "execute_result"
    }
   ],
   "source": [
    "df.Timing = '1PM to 3PM' # add new column\n",
    "\n",
    "df"
   ]
  },
  {
   "cell_type": "code",
   "execution_count": 53,
   "id": "40bbdcc3",
   "metadata": {},
   "outputs": [
    {
     "data": {
      "text/html": [
       "<div>\n",
       "<style scoped>\n",
       "    .dataframe tbody tr th:only-of-type {\n",
       "        vertical-align: middle;\n",
       "    }\n",
       "\n",
       "    .dataframe tbody tr th {\n",
       "        vertical-align: top;\n",
       "    }\n",
       "\n",
       "    .dataframe thead th {\n",
       "        text-align: right;\n",
       "    }\n",
       "</style>\n",
       "<table border=\"1\" class=\"dataframe\">\n",
       "  <thead>\n",
       "    <tr style=\"text-align: right;\">\n",
       "      <th></th>\n",
       "      <th>id</th>\n",
       "      <th>name</th>\n",
       "      <th>NED course</th>\n",
       "    </tr>\n",
       "  </thead>\n",
       "  <tbody>\n",
       "    <tr>\n",
       "      <th>0</th>\n",
       "      <td>100</td>\n",
       "      <td>Hamza</td>\n",
       "      <td>AI</td>\n",
       "    </tr>\n",
       "    <tr>\n",
       "      <th>1</th>\n",
       "      <td>200</td>\n",
       "      <td>Asif</td>\n",
       "      <td>DataVisualization</td>\n",
       "    </tr>\n",
       "    <tr>\n",
       "      <th>2</th>\n",
       "      <td>300</td>\n",
       "      <td>Junaid</td>\n",
       "      <td>DS</td>\n",
       "    </tr>\n",
       "  </tbody>\n",
       "</table>\n",
       "</div>"
      ],
      "text/plain": [
       "    id    name         NED course\n",
       "0  100   Hamza                 AI\n",
       "1  200    Asif  DataVisualization\n",
       "2  300  Junaid                 DS"
      ]
     },
     "execution_count": 53,
     "metadata": {},
     "output_type": "execute_result"
    }
   ],
   "source": [
    "df.id = [100,200,300] # add new column\n",
    "\n",
    "df"
   ]
  },
  {
   "cell_type": "code",
   "execution_count": 54,
   "id": "d9f6b851",
   "metadata": {},
   "outputs": [
    {
     "data": {
      "text/html": [
       "<div>\n",
       "<style scoped>\n",
       "    .dataframe tbody tr th:only-of-type {\n",
       "        vertical-align: middle;\n",
       "    }\n",
       "\n",
       "    .dataframe tbody tr th {\n",
       "        vertical-align: top;\n",
       "    }\n",
       "\n",
       "    .dataframe thead th {\n",
       "        text-align: right;\n",
       "    }\n",
       "</style>\n",
       "<table border=\"1\" class=\"dataframe\">\n",
       "  <thead>\n",
       "    <tr style=\"text-align: right;\">\n",
       "      <th></th>\n",
       "      <th>id</th>\n",
       "      <th>name</th>\n",
       "      <th>NED course</th>\n",
       "      <th>Timing</th>\n",
       "    </tr>\n",
       "  </thead>\n",
       "  <tbody>\n",
       "    <tr>\n",
       "      <th>0</th>\n",
       "      <td>100</td>\n",
       "      <td>Hamza</td>\n",
       "      <td>AI</td>\n",
       "      <td>1 PM to 3PM</td>\n",
       "    </tr>\n",
       "    <tr>\n",
       "      <th>1</th>\n",
       "      <td>200</td>\n",
       "      <td>Asif</td>\n",
       "      <td>DataVisualization</td>\n",
       "      <td>1 PM to 3PM</td>\n",
       "    </tr>\n",
       "    <tr>\n",
       "      <th>2</th>\n",
       "      <td>300</td>\n",
       "      <td>Junaid</td>\n",
       "      <td>DS</td>\n",
       "      <td>1 PM to 3PM</td>\n",
       "    </tr>\n",
       "  </tbody>\n",
       "</table>\n",
       "</div>"
      ],
      "text/plain": [
       "    id    name         NED course       Timing\n",
       "0  100   Hamza                 AI  1 PM to 3PM\n",
       "1  200    Asif  DataVisualization  1 PM to 3PM\n",
       "2  300  Junaid                 DS  1 PM to 3PM"
      ]
     },
     "execution_count": 54,
     "metadata": {},
     "output_type": "execute_result"
    }
   ],
   "source": [
    "df['Timing'] = \"1 PM to 3PM\"\n",
    "df"
   ]
  },
  {
   "cell_type": "code",
   "execution_count": 55,
   "id": "8758655b",
   "metadata": {},
   "outputs": [
    {
     "data": {
      "text/plain": [
       "array([[100, 'Hamza', 'AI', '1 PM to 3PM'],\n",
       "       [200, 'Asif', 'DataVisualization', '1 PM to 3PM'],\n",
       "       [300, 'Junaid', 'DS', '1 PM to 3PM']], dtype=object)"
      ]
     },
     "execution_count": 55,
     "metadata": {},
     "output_type": "execute_result"
    }
   ],
   "source": [
    "df.values"
   ]
  },
  {
   "cell_type": "code",
   "execution_count": 56,
   "id": "30ecbb5c",
   "metadata": {},
   "outputs": [
    {
     "data": {
      "text/plain": [
       "Index(['id', 'name', 'NED course', 'Timing'], dtype='object')"
      ]
     },
     "execution_count": 56,
     "metadata": {},
     "output_type": "execute_result"
    }
   ],
   "source": [
    "df.columns"
   ]
  },
  {
   "cell_type": "code",
   "execution_count": 57,
   "id": "5213e311",
   "metadata": {},
   "outputs": [
    {
     "data": {
      "text/plain": [
       "RangeIndex(start=0, stop=3, step=1)"
      ]
     },
     "execution_count": 57,
     "metadata": {},
     "output_type": "execute_result"
    }
   ],
   "source": [
    "df.index"
   ]
  },
  {
   "cell_type": "markdown",
   "id": "374aa857",
   "metadata": {},
   "source": [
    "# extrace morethan one columns"
   ]
  },
  {
   "cell_type": "code",
   "execution_count": null,
   "id": "3c92b13b",
   "metadata": {},
   "outputs": [],
   "source": [
    "dataframe[list_of_columns]"
   ]
  },
  {
   "cell_type": "code",
   "execution_count": 58,
   "id": "d4eff67b",
   "metadata": {},
   "outputs": [
    {
     "data": {
      "text/plain": [
       "Index(['id', 'name', 'NED course', 'Timing'], dtype='object')"
      ]
     },
     "execution_count": 58,
     "metadata": {},
     "output_type": "execute_result"
    }
   ],
   "source": [
    "df.columns"
   ]
  },
  {
   "cell_type": "code",
   "execution_count": 61,
   "id": "97b2db23",
   "metadata": {},
   "outputs": [
    {
     "data": {
      "text/html": [
       "<div>\n",
       "<style scoped>\n",
       "    .dataframe tbody tr th:only-of-type {\n",
       "        vertical-align: middle;\n",
       "    }\n",
       "\n",
       "    .dataframe tbody tr th {\n",
       "        vertical-align: top;\n",
       "    }\n",
       "\n",
       "    .dataframe thead th {\n",
       "        text-align: right;\n",
       "    }\n",
       "</style>\n",
       "<table border=\"1\" class=\"dataframe\">\n",
       "  <thead>\n",
       "    <tr style=\"text-align: right;\">\n",
       "      <th></th>\n",
       "      <th>Timing</th>\n",
       "      <th>id</th>\n",
       "      <th>name</th>\n",
       "    </tr>\n",
       "  </thead>\n",
       "  <tbody>\n",
       "    <tr>\n",
       "      <th>0</th>\n",
       "      <td>1 PM to 3PM</td>\n",
       "      <td>100</td>\n",
       "      <td>Hamza</td>\n",
       "    </tr>\n",
       "    <tr>\n",
       "      <th>1</th>\n",
       "      <td>1 PM to 3PM</td>\n",
       "      <td>200</td>\n",
       "      <td>Asif</td>\n",
       "    </tr>\n",
       "    <tr>\n",
       "      <th>2</th>\n",
       "      <td>1 PM to 3PM</td>\n",
       "      <td>300</td>\n",
       "      <td>Junaid</td>\n",
       "    </tr>\n",
       "  </tbody>\n",
       "</table>\n",
       "</div>"
      ],
      "text/plain": [
       "        Timing   id    name\n",
       "0  1 PM to 3PM  100   Hamza\n",
       "1  1 PM to 3PM  200    Asif\n",
       "2  1 PM to 3PM  300  Junaid"
      ]
     },
     "execution_count": 61,
     "metadata": {},
     "output_type": "execute_result"
    }
   ],
   "source": [
    "df[['Timing','id','name']]"
   ]
  },
  {
   "cell_type": "code",
   "execution_count": 62,
   "id": "29d2aa90",
   "metadata": {},
   "outputs": [
    {
     "data": {
      "text/html": [
       "<div>\n",
       "<style scoped>\n",
       "    .dataframe tbody tr th:only-of-type {\n",
       "        vertical-align: middle;\n",
       "    }\n",
       "\n",
       "    .dataframe tbody tr th {\n",
       "        vertical-align: top;\n",
       "    }\n",
       "\n",
       "    .dataframe thead th {\n",
       "        text-align: right;\n",
       "    }\n",
       "</style>\n",
       "<table border=\"1\" class=\"dataframe\">\n",
       "  <thead>\n",
       "    <tr style=\"text-align: right;\">\n",
       "      <th></th>\n",
       "      <th>Timing</th>\n",
       "      <th>id</th>\n",
       "      <th>name</th>\n",
       "    </tr>\n",
       "  </thead>\n",
       "  <tbody>\n",
       "    <tr>\n",
       "      <th>0</th>\n",
       "      <td>1 PM to 3PM</td>\n",
       "      <td>100</td>\n",
       "      <td>Hamza</td>\n",
       "    </tr>\n",
       "    <tr>\n",
       "      <th>1</th>\n",
       "      <td>1 PM to 3PM</td>\n",
       "      <td>200</td>\n",
       "      <td>Asif</td>\n",
       "    </tr>\n",
       "    <tr>\n",
       "      <th>2</th>\n",
       "      <td>1 PM to 3PM</td>\n",
       "      <td>300</td>\n",
       "      <td>Junaid</td>\n",
       "    </tr>\n",
       "  </tbody>\n",
       "</table>\n",
       "</div>"
      ],
      "text/plain": [
       "        Timing   id    name\n",
       "0  1 PM to 3PM  100   Hamza\n",
       "1  1 PM to 3PM  200    Asif\n",
       "2  1 PM to 3PM  300  Junaid"
      ]
     },
     "execution_count": 62,
     "metadata": {},
     "output_type": "execute_result"
    }
   ],
   "source": [
    "cols = ['Timing','id','name']\n",
    "df[cols]"
   ]
  },
  {
   "cell_type": "code",
   "execution_count": 63,
   "id": "06e1dd33",
   "metadata": {},
   "outputs": [
    {
     "data": {
      "text/plain": [
       "pandas.core.series.Series"
      ]
     },
     "execution_count": 63,
     "metadata": {},
     "output_type": "execute_result"
    }
   ],
   "source": [
    "s1 = df.id\n",
    "type(s1)"
   ]
  },
  {
   "cell_type": "code",
   "execution_count": 67,
   "id": "8e65943c",
   "metadata": {},
   "outputs": [
    {
     "data": {
      "text/plain": [
       "pandas.core.series.Series"
      ]
     },
     "execution_count": 67,
     "metadata": {},
     "output_type": "execute_result"
    }
   ],
   "source": [
    "s1 = df['id']\n",
    "type(s1)"
   ]
  },
  {
   "cell_type": "code",
   "execution_count": 68,
   "id": "ea512cfc",
   "metadata": {},
   "outputs": [
    {
     "data": {
      "text/plain": [
       "pandas.core.frame.DataFrame"
      ]
     },
     "execution_count": 68,
     "metadata": {},
     "output_type": "execute_result"
    }
   ],
   "source": [
    "s1 = df[['id']]\n",
    "type(s1)"
   ]
  },
  {
   "cell_type": "code",
   "execution_count": 65,
   "id": "c9f5b79f",
   "metadata": {},
   "outputs": [
    {
     "data": {
      "text/html": [
       "<div>\n",
       "<style scoped>\n",
       "    .dataframe tbody tr th:only-of-type {\n",
       "        vertical-align: middle;\n",
       "    }\n",
       "\n",
       "    .dataframe tbody tr th {\n",
       "        vertical-align: top;\n",
       "    }\n",
       "\n",
       "    .dataframe thead th {\n",
       "        text-align: right;\n",
       "    }\n",
       "</style>\n",
       "<table border=\"1\" class=\"dataframe\">\n",
       "  <thead>\n",
       "    <tr style=\"text-align: right;\">\n",
       "      <th></th>\n",
       "      <th>id</th>\n",
       "      <th>name</th>\n",
       "      <th>NED course</th>\n",
       "      <th>Timing</th>\n",
       "    </tr>\n",
       "  </thead>\n",
       "  <tbody>\n",
       "    <tr>\n",
       "      <th>0</th>\n",
       "      <td>100</td>\n",
       "      <td>Hamza</td>\n",
       "      <td>AI</td>\n",
       "      <td>1 PM to 3PM</td>\n",
       "    </tr>\n",
       "    <tr>\n",
       "      <th>1</th>\n",
       "      <td>200</td>\n",
       "      <td>Asif</td>\n",
       "      <td>DataVisualization</td>\n",
       "      <td>1 PM to 3PM</td>\n",
       "    </tr>\n",
       "    <tr>\n",
       "      <th>2</th>\n",
       "      <td>300</td>\n",
       "      <td>Junaid</td>\n",
       "      <td>DS</td>\n",
       "      <td>1 PM to 3PM</td>\n",
       "    </tr>\n",
       "  </tbody>\n",
       "</table>\n",
       "</div>"
      ],
      "text/plain": [
       "    id    name         NED course       Timing\n",
       "0  100   Hamza                 AI  1 PM to 3PM\n",
       "1  200    Asif  DataVisualization  1 PM to 3PM\n",
       "2  300  Junaid                 DS  1 PM to 3PM"
      ]
     },
     "execution_count": 65,
     "metadata": {},
     "output_type": "execute_result"
    }
   ],
   "source": [
    "df"
   ]
  },
  {
   "cell_type": "code",
   "execution_count": 66,
   "id": "4846ee0d",
   "metadata": {},
   "outputs": [
    {
     "name": "stdout",
     "output_type": "stream",
     "text": [
      "<class 'pandas.core.frame.DataFrame'>\n"
     ]
    }
   ],
   "source": [
    "df1 = df[['NED course','id']]\n",
    "print(type(df1))"
   ]
  },
  {
   "cell_type": "markdown",
   "id": "e481c82b",
   "metadata": {},
   "source": [
    "# Create data using numpy pandas\n",
    "## Class5 dated: 14-May-2023"
   ]
  },
  {
   "cell_type": "code",
   "execution_count": 24,
   "id": "115e33ed",
   "metadata": {},
   "outputs": [
    {
     "data": {
      "text/plain": [
       "Timestamp('1959-10-09 00:00:00')"
      ]
     },
     "execution_count": 24,
     "metadata": {},
     "output_type": "execute_result"
    }
   ],
   "source": [
    "def random_date():\n",
    "   \n",
    "    month = np.random.randint(1,12)\n",
    "    if month==2:\n",
    "         day = np.random.randint(1,28)\n",
    "    else:\n",
    "         day = np.random.randint(1,31)\n",
    "    year  = np.random.randint(1950,2015)\n",
    "    dt = pd.to_datetime(f\"{year}-{month}-{day}\")\n",
    "    return dt\n",
    "    \n",
    "random_date()    "
   ]
  },
  {
   "cell_type": "code",
   "execution_count": 45,
   "id": "00f3eed4",
   "metadata": {},
   "outputs": [
    {
     "data": {
      "text/html": [
       "<div>\n",
       "<style scoped>\n",
       "    .dataframe tbody tr th:only-of-type {\n",
       "        vertical-align: middle;\n",
       "    }\n",
       "\n",
       "    .dataframe tbody tr th {\n",
       "        vertical-align: top;\n",
       "    }\n",
       "\n",
       "    .dataframe thead th {\n",
       "        text-align: right;\n",
       "    }\n",
       "</style>\n",
       "<table border=\"1\" class=\"dataframe\">\n",
       "  <thead>\n",
       "    <tr style=\"text-align: right;\">\n",
       "      <th></th>\n",
       "      <th>rollno</th>\n",
       "      <th>name</th>\n",
       "      <th>fname</th>\n",
       "      <th>course</th>\n",
       "      <th>city</th>\n",
       "      <th>dob</th>\n",
       "      <th>s1</th>\n",
       "      <th>s2</th>\n",
       "      <th>s3</th>\n",
       "      <th>s4</th>\n",
       "      <th>s5</th>\n",
       "    </tr>\n",
       "  </thead>\n",
       "  <tbody>\n",
       "    <tr>\n",
       "      <th>0</th>\n",
       "      <td>1</td>\n",
       "      <td>Hamza</td>\n",
       "      <td>Asif</td>\n",
       "      <td>AI</td>\n",
       "      <td>None</td>\n",
       "      <td>1951-09-22</td>\n",
       "      <td>89</td>\n",
       "      <td>99</td>\n",
       "      <td>59</td>\n",
       "      <td>99</td>\n",
       "      <td>62</td>\n",
       "    </tr>\n",
       "    <tr>\n",
       "      <th>1</th>\n",
       "      <td>2</td>\n",
       "      <td>Hamza</td>\n",
       "      <td>Junaid</td>\n",
       "      <td>DS</td>\n",
       "      <td>LHR</td>\n",
       "      <td>1989-03-17</td>\n",
       "      <td>92</td>\n",
       "      <td>6</td>\n",
       "      <td>97</td>\n",
       "      <td>74</td>\n",
       "      <td>10</td>\n",
       "    </tr>\n",
       "    <tr>\n",
       "      <th>2</th>\n",
       "      <td>3</td>\n",
       "      <td>Junaid</td>\n",
       "      <td>Asif</td>\n",
       "      <td>Blockchain</td>\n",
       "      <td>KHI</td>\n",
       "      <td>1964-05-02</td>\n",
       "      <td>49</td>\n",
       "      <td>37</td>\n",
       "      <td>43</td>\n",
       "      <td>98</td>\n",
       "      <td>24</td>\n",
       "    </tr>\n",
       "    <tr>\n",
       "      <th>3</th>\n",
       "      <td>4</td>\n",
       "      <td>Asif</td>\n",
       "      <td>Asif</td>\n",
       "      <td>DS</td>\n",
       "      <td>None</td>\n",
       "      <td>1993-06-14</td>\n",
       "      <td>98</td>\n",
       "      <td>32</td>\n",
       "      <td>52</td>\n",
       "      <td>37</td>\n",
       "      <td>45</td>\n",
       "    </tr>\n",
       "    <tr>\n",
       "      <th>4</th>\n",
       "      <td>5</td>\n",
       "      <td>Asif</td>\n",
       "      <td>Ali</td>\n",
       "      <td>AI</td>\n",
       "      <td>ISL</td>\n",
       "      <td>1982-03-07</td>\n",
       "      <td>72</td>\n",
       "      <td>33</td>\n",
       "      <td>7</td>\n",
       "      <td>35</td>\n",
       "      <td>78</td>\n",
       "    </tr>\n",
       "    <tr>\n",
       "      <th>...</th>\n",
       "      <td>...</td>\n",
       "      <td>...</td>\n",
       "      <td>...</td>\n",
       "      <td>...</td>\n",
       "      <td>...</td>\n",
       "      <td>...</td>\n",
       "      <td>...</td>\n",
       "      <td>...</td>\n",
       "      <td>...</td>\n",
       "      <td>...</td>\n",
       "      <td>...</td>\n",
       "    </tr>\n",
       "    <tr>\n",
       "      <th>995</th>\n",
       "      <td>996</td>\n",
       "      <td>Junaid</td>\n",
       "      <td>Junaid</td>\n",
       "      <td>ML</td>\n",
       "      <td>LHR</td>\n",
       "      <td>1958-08-20</td>\n",
       "      <td>44</td>\n",
       "      <td>68</td>\n",
       "      <td>58</td>\n",
       "      <td>11</td>\n",
       "      <td>9</td>\n",
       "    </tr>\n",
       "    <tr>\n",
       "      <th>996</th>\n",
       "      <td>997</td>\n",
       "      <td>Hamza</td>\n",
       "      <td>Junaid</td>\n",
       "      <td>AI</td>\n",
       "      <td>None</td>\n",
       "      <td>1986-05-29</td>\n",
       "      <td>18</td>\n",
       "      <td>15</td>\n",
       "      <td>78</td>\n",
       "      <td>59</td>\n",
       "      <td>84</td>\n",
       "    </tr>\n",
       "    <tr>\n",
       "      <th>997</th>\n",
       "      <td>998</td>\n",
       "      <td>Hamza</td>\n",
       "      <td>Asif</td>\n",
       "      <td>AI</td>\n",
       "      <td>LHR</td>\n",
       "      <td>1963-11-28</td>\n",
       "      <td>34</td>\n",
       "      <td>16</td>\n",
       "      <td>92</td>\n",
       "      <td>26</td>\n",
       "      <td>70</td>\n",
       "    </tr>\n",
       "    <tr>\n",
       "      <th>998</th>\n",
       "      <td>999</td>\n",
       "      <td>Asif</td>\n",
       "      <td>Junaid</td>\n",
       "      <td>ML</td>\n",
       "      <td>ISL</td>\n",
       "      <td>1998-08-19</td>\n",
       "      <td>29</td>\n",
       "      <td>33</td>\n",
       "      <td>68</td>\n",
       "      <td>41</td>\n",
       "      <td>4</td>\n",
       "    </tr>\n",
       "    <tr>\n",
       "      <th>999</th>\n",
       "      <td>1000</td>\n",
       "      <td>Ali</td>\n",
       "      <td>Hamza</td>\n",
       "      <td>AI</td>\n",
       "      <td>None</td>\n",
       "      <td>1968-01-02</td>\n",
       "      <td>65</td>\n",
       "      <td>55</td>\n",
       "      <td>89</td>\n",
       "      <td>70</td>\n",
       "      <td>73</td>\n",
       "    </tr>\n",
       "  </tbody>\n",
       "</table>\n",
       "<p>1000 rows × 11 columns</p>\n",
       "</div>"
      ],
      "text/plain": [
       "     rollno    name   fname      course  city        dob  s1  s2  s3  s4  s5\n",
       "0         1   Hamza    Asif          AI  None 1951-09-22  89  99  59  99  62\n",
       "1         2   Hamza  Junaid          DS   LHR 1989-03-17  92   6  97  74  10\n",
       "2         3  Junaid    Asif  Blockchain   KHI 1964-05-02  49  37  43  98  24\n",
       "3         4    Asif    Asif          DS  None 1993-06-14  98  32  52  37  45\n",
       "4         5    Asif     Ali          AI   ISL 1982-03-07  72  33   7  35  78\n",
       "..      ...     ...     ...         ...   ...        ...  ..  ..  ..  ..  ..\n",
       "995     996  Junaid  Junaid          ML   LHR 1958-08-20  44  68  58  11   9\n",
       "996     997   Hamza  Junaid          AI  None 1986-05-29  18  15  78  59  84\n",
       "997     998   Hamza    Asif          AI   LHR 1963-11-28  34  16  92  26  70\n",
       "998     999    Asif  Junaid          ML   ISL 1998-08-19  29  33  68  41   4\n",
       "999    1000     Ali   Hamza          AI  None 1968-01-02  65  55  89  70  73\n",
       "\n",
       "[1000 rows x 11 columns]"
      ]
     },
     "execution_count": 45,
     "metadata": {},
     "output_type": "execute_result"
    }
   ],
   "source": [
    "import pandas as pd\n",
    "import numpy as np\n",
    "\n",
    "no_of_records = 1000\n",
    "df1 = pd.DataFrame(\n",
    "    {\n",
    "        \"rollno\":np.arange(1,no_of_records+1),\n",
    "        'name': np.random.choice(['Ali','Hamza','Junaid',\"Asif\"],no_of_records),\n",
    "        'fname': np.random.choice(['Ali','Hamza','Junaid',\"Asif\"],no_of_records),\n",
    "        'course': np.random.choice(['AI','DS','ML',\"Blockchain\"],no_of_records),\n",
    "        'city': np.random.choice(['KHI','ISL','LHR',None],no_of_records),\n",
    "        'dob': [random_date() for i in range(no_of_records)],\n",
    "        's1': np.random.randint(1,100, no_of_records),\n",
    "        's2': np.random.randint(1,100, no_of_records),\n",
    "        's3': np.random.randint(1,100, no_of_records),\n",
    "        's4': np.random.randint(1,100, no_of_records),\n",
    "        's5': np.random.randint(1,100, no_of_records),\n",
    "        \n",
    "\n",
    "    }\n",
    ")\n",
    "\n",
    "df1"
   ]
  },
  {
   "cell_type": "markdown",
   "id": "de8bd363",
   "metadata": {},
   "source": [
    "# EDA"
   ]
  },
  {
   "cell_type": "code",
   "execution_count": 46,
   "id": "9bbacfa2",
   "metadata": {},
   "outputs": [
    {
     "name": "stdout",
     "output_type": "stream",
     "text": [
      "<class 'pandas.core.frame.DataFrame'>\n",
      "RangeIndex: 1000 entries, 0 to 999\n",
      "Data columns (total 11 columns):\n",
      " #   Column  Non-Null Count  Dtype         \n",
      "---  ------  --------------  -----         \n",
      " 0   rollno  1000 non-null   int64         \n",
      " 1   name    1000 non-null   object        \n",
      " 2   fname   1000 non-null   object        \n",
      " 3   course  1000 non-null   object        \n",
      " 4   city    751 non-null    object        \n",
      " 5   dob     1000 non-null   datetime64[ns]\n",
      " 6   s1      1000 non-null   int64         \n",
      " 7   s2      1000 non-null   int64         \n",
      " 8   s3      1000 non-null   int64         \n",
      " 9   s4      1000 non-null   int64         \n",
      " 10  s5      1000 non-null   int64         \n",
      "dtypes: datetime64[ns](1), int64(6), object(4)\n",
      "memory usage: 86.1+ KB\n"
     ]
    }
   ],
   "source": [
    "df1.info()"
   ]
  },
  {
   "cell_type": "code",
   "execution_count": 27,
   "id": "eae2d67c",
   "metadata": {},
   "outputs": [
    {
     "data": {
      "text/html": [
       "<div>\n",
       "<style scoped>\n",
       "    .dataframe tbody tr th:only-of-type {\n",
       "        vertical-align: middle;\n",
       "    }\n",
       "\n",
       "    .dataframe tbody tr th {\n",
       "        vertical-align: top;\n",
       "    }\n",
       "\n",
       "    .dataframe thead th {\n",
       "        text-align: right;\n",
       "    }\n",
       "</style>\n",
       "<table border=\"1\" class=\"dataframe\">\n",
       "  <thead>\n",
       "    <tr style=\"text-align: right;\">\n",
       "      <th></th>\n",
       "      <th>rollno</th>\n",
       "      <th>s1</th>\n",
       "      <th>s2</th>\n",
       "      <th>s3</th>\n",
       "      <th>s4</th>\n",
       "      <th>s5</th>\n",
       "    </tr>\n",
       "  </thead>\n",
       "  <tbody>\n",
       "    <tr>\n",
       "      <th>count</th>\n",
       "      <td>1000.000000</td>\n",
       "      <td>1000.000000</td>\n",
       "      <td>1000.000000</td>\n",
       "      <td>1000.000000</td>\n",
       "      <td>1000.000000</td>\n",
       "      <td>1000.000000</td>\n",
       "    </tr>\n",
       "    <tr>\n",
       "      <th>mean</th>\n",
       "      <td>500.500000</td>\n",
       "      <td>50.098000</td>\n",
       "      <td>50.247000</td>\n",
       "      <td>51.168000</td>\n",
       "      <td>48.503000</td>\n",
       "      <td>49.844000</td>\n",
       "    </tr>\n",
       "    <tr>\n",
       "      <th>std</th>\n",
       "      <td>288.819436</td>\n",
       "      <td>28.384363</td>\n",
       "      <td>28.616829</td>\n",
       "      <td>28.687083</td>\n",
       "      <td>28.168199</td>\n",
       "      <td>28.972488</td>\n",
       "    </tr>\n",
       "    <tr>\n",
       "      <th>min</th>\n",
       "      <td>1.000000</td>\n",
       "      <td>1.000000</td>\n",
       "      <td>1.000000</td>\n",
       "      <td>1.000000</td>\n",
       "      <td>1.000000</td>\n",
       "      <td>1.000000</td>\n",
       "    </tr>\n",
       "    <tr>\n",
       "      <th>25%</th>\n",
       "      <td>250.750000</td>\n",
       "      <td>24.000000</td>\n",
       "      <td>25.000000</td>\n",
       "      <td>27.000000</td>\n",
       "      <td>24.000000</td>\n",
       "      <td>24.000000</td>\n",
       "    </tr>\n",
       "    <tr>\n",
       "      <th>50%</th>\n",
       "      <td>500.500000</td>\n",
       "      <td>51.000000</td>\n",
       "      <td>51.000000</td>\n",
       "      <td>52.000000</td>\n",
       "      <td>48.000000</td>\n",
       "      <td>51.000000</td>\n",
       "    </tr>\n",
       "    <tr>\n",
       "      <th>75%</th>\n",
       "      <td>750.250000</td>\n",
       "      <td>74.000000</td>\n",
       "      <td>75.000000</td>\n",
       "      <td>77.000000</td>\n",
       "      <td>72.000000</td>\n",
       "      <td>75.000000</td>\n",
       "    </tr>\n",
       "    <tr>\n",
       "      <th>max</th>\n",
       "      <td>1000.000000</td>\n",
       "      <td>99.000000</td>\n",
       "      <td>99.000000</td>\n",
       "      <td>99.000000</td>\n",
       "      <td>99.000000</td>\n",
       "      <td>99.000000</td>\n",
       "    </tr>\n",
       "  </tbody>\n",
       "</table>\n",
       "</div>"
      ],
      "text/plain": [
       "            rollno           s1           s2           s3           s4  \\\n",
       "count  1000.000000  1000.000000  1000.000000  1000.000000  1000.000000   \n",
       "mean    500.500000    50.098000    50.247000    51.168000    48.503000   \n",
       "std     288.819436    28.384363    28.616829    28.687083    28.168199   \n",
       "min       1.000000     1.000000     1.000000     1.000000     1.000000   \n",
       "25%     250.750000    24.000000    25.000000    27.000000    24.000000   \n",
       "50%     500.500000    51.000000    51.000000    52.000000    48.000000   \n",
       "75%     750.250000    74.000000    75.000000    77.000000    72.000000   \n",
       "max    1000.000000    99.000000    99.000000    99.000000    99.000000   \n",
       "\n",
       "                s5  \n",
       "count  1000.000000  \n",
       "mean     49.844000  \n",
       "std      28.972488  \n",
       "min       1.000000  \n",
       "25%      24.000000  \n",
       "50%      51.000000  \n",
       "75%      75.000000  \n",
       "max      99.000000  "
      ]
     },
     "execution_count": 27,
     "metadata": {},
     "output_type": "execute_result"
    }
   ],
   "source": [
    "df1.describe()"
   ]
  },
  {
   "cell_type": "code",
   "execution_count": 33,
   "id": "0bf305c9",
   "metadata": {},
   "outputs": [
    {
     "data": {
      "text/plain": [
       "340.0"
      ]
     },
     "execution_count": 33,
     "metadata": {},
     "output_type": "execute_result"
    }
   ],
   "source": [
    "1000*34/100"
   ]
  },
  {
   "cell_type": "markdown",
   "id": "229f7c27",
   "metadata": {},
   "source": [
    "<img src=\"https://www.scribbr.de/wp-content/uploads/2023/01/Standard-normal-distribution.webp\">"
   ]
  },
  {
   "cell_type": "code",
   "execution_count": 32,
   "id": "6a23d150",
   "metadata": {},
   "outputs": [
    {
     "name": "stdout",
     "output_type": "stream",
     "text": [
      "129.5\n"
     ]
    }
   ],
   "source": [
    "d = np.array([1,2,7,5,9,10,2,1000])\n",
    "# average/mean\n",
    "#     avg = sum(all value) / total counts\n",
    "\n",
    "print((1+2+7+5+9+10+2+1000)/8)"
   ]
  },
  {
   "cell_type": "code",
   "execution_count": null,
   "id": "cd5cd5af",
   "metadata": {},
   "outputs": [],
   "source": [
    "Step1 Median\n",
    "data = [1,2,7,5,9,10,2]\n",
    "sort = [1,2,2,5,7,9,10] # count odd = Media = 5\n",
    "\n",
    "[1,2,7,5,9,10,2,1000]\n",
    "[1,2,2,5,7,9,10,1000] # even 5+7/2 = 6"
   ]
  },
  {
   "cell_type": "code",
   "execution_count": null,
   "id": "d9064232",
   "metadata": {},
   "outputs": [],
   "source": [
    "Mode = most repeated number\n",
    "[1,2,7,5,9,10,2] = 2"
   ]
  },
  {
   "cell_type": "markdown",
   "id": "9bfbb9b0",
   "metadata": {},
   "source": [
    "<img src=\"data:image/jpeg;base64,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\">"
   ]
  },
  {
   "cell_type": "code",
   "execution_count": 42,
   "id": "e29cc323",
   "metadata": {},
   "outputs": [
    {
     "name": "stdout",
     "output_type": "stream",
     "text": [
      "0     1\n",
      "1     2\n",
      "2     7\n",
      "3     5\n",
      "4     9\n",
      "5    10\n",
      "6     2\n",
      "dtype: int64\n",
      "Mode 2\n",
      "Mean/Average 5.142857142857143\n",
      "Median 5.0\n"
     ]
    }
   ],
   "source": [
    "s1 = pd.Series([1,2,7,5,9,10,2])\n",
    "print(s1)\n",
    "print(\"Mode\",s1.mode().values[0])\n",
    "print(\"Mean/Average\",s1.mean())\n",
    "print(\"Median\",s1.median())"
   ]
  },
  {
   "cell_type": "code",
   "execution_count": 48,
   "id": "192bd719",
   "metadata": {},
   "outputs": [
    {
     "data": {
      "text/plain": [
       "rollno    1000\n",
       "name      1000\n",
       "fname     1000\n",
       "course    1000\n",
       "city       751\n",
       "dob       1000\n",
       "s1        1000\n",
       "s2        1000\n",
       "s3        1000\n",
       "s4        1000\n",
       "s5        1000\n",
       "dtype: int64"
      ]
     },
     "execution_count": 48,
     "metadata": {},
     "output_type": "execute_result"
    }
   ],
   "source": [
    "df1.notnull().sum()"
   ]
  },
  {
   "cell_type": "code",
   "execution_count": 50,
   "id": "e4d31d5f",
   "metadata": {},
   "outputs": [
    {
     "data": {
      "text/plain": [
       "rollno      0\n",
       "name        0\n",
       "fname       0\n",
       "course      0\n",
       "city      249\n",
       "dob         0\n",
       "s1          0\n",
       "s2          0\n",
       "s3          0\n",
       "s4          0\n",
       "s5          0\n",
       "dtype: int64"
      ]
     },
     "execution_count": 50,
     "metadata": {},
     "output_type": "execute_result"
    }
   ],
   "source": [
    "df1.isnull().sum()"
   ]
  },
  {
   "cell_type": "code",
   "execution_count": 53,
   "id": "a818170d",
   "metadata": {},
   "outputs": [
    {
     "data": {
      "text/plain": [
       "rollno    100.0\n",
       "name      100.0\n",
       "fname     100.0\n",
       "course    100.0\n",
       "city       75.1\n",
       "dob       100.0\n",
       "s1        100.0\n",
       "s2        100.0\n",
       "s3        100.0\n",
       "s4        100.0\n",
       "s5        100.0\n",
       "dtype: float64"
      ]
     },
     "execution_count": 53,
     "metadata": {},
     "output_type": "execute_result"
    }
   ],
   "source": [
    "df1.notnull().sum()/len(df1)*100"
   ]
  },
  {
   "cell_type": "code",
   "execution_count": 55,
   "id": "d3638ddc",
   "metadata": {},
   "outputs": [
    {
     "data": {
      "text/plain": [
       "rollno             int64\n",
       "name              object\n",
       "fname             object\n",
       "course            object\n",
       "city              object\n",
       "dob       datetime64[ns]\n",
       "s1                 int64\n",
       "s2                 int64\n",
       "s3                 int64\n",
       "s4                 int64\n",
       "s5                 int64\n",
       "dtype: object"
      ]
     },
     "execution_count": 55,
     "metadata": {},
     "output_type": "execute_result"
    }
   ],
   "source": [
    "df1.dtypes"
   ]
  },
  {
   "cell_type": "code",
   "execution_count": 58,
   "id": "444fac55",
   "metadata": {},
   "outputs": [],
   "source": [
    "df1.to_excel(\"f1.xlsx\", index=False)\n",
    "df1.to_csv(\"f1.csv\", index=False)"
   ]
  },
  {
   "cell_type": "code",
   "execution_count": 57,
   "id": "4ee67257",
   "metadata": {},
   "outputs": [
    {
     "name": "stdout",
     "output_type": "stream",
     "text": [
      "<class 'pandas.core.frame.DataFrame'>\n",
      "RangeIndex: 1000 entries, 0 to 999\n",
      "Data columns (total 11 columns):\n",
      " #   Column  Non-Null Count  Dtype         \n",
      "---  ------  --------------  -----         \n",
      " 0   rollno  1000 non-null   int64         \n",
      " 1   name    1000 non-null   object        \n",
      " 2   fname   1000 non-null   object        \n",
      " 3   course  1000 non-null   object        \n",
      " 4   city    751 non-null    object        \n",
      " 5   dob     1000 non-null   datetime64[ns]\n",
      " 6   s1      1000 non-null   int64         \n",
      " 7   s2      1000 non-null   int64         \n",
      " 8   s3      1000 non-null   int64         \n",
      " 9   s4      1000 non-null   int64         \n",
      " 10  s5      1000 non-null   int64         \n",
      "dtypes: datetime64[ns](1), int64(6), object(4)\n",
      "memory usage: 86.1+ KB\n"
     ]
    }
   ],
   "source": [
    "df2 = pd.read_excel(\"./f1.xlsx\")\n",
    "df2.info()"
   ]
  },
  {
   "cell_type": "code",
   "execution_count": 60,
   "id": "790e482b",
   "metadata": {},
   "outputs": [
    {
     "name": "stdout",
     "output_type": "stream",
     "text": [
      "<class 'pandas.core.frame.DataFrame'>\n",
      "RangeIndex: 1000 entries, 0 to 999\n",
      "Data columns (total 11 columns):\n",
      " #   Column  Non-Null Count  Dtype \n",
      "---  ------  --------------  ----- \n",
      " 0   rollno  1000 non-null   object\n",
      " 1   name    1000 non-null   object\n",
      " 2   fname   1000 non-null   object\n",
      " 3   course  1000 non-null   object\n",
      " 4   city    751 non-null    object\n",
      " 5   dob     1000 non-null   object\n",
      " 6   s1      1000 non-null   object\n",
      " 7   s2      1000 non-null   object\n",
      " 8   s3      1000 non-null   object\n",
      " 9   s4      1000 non-null   object\n",
      " 10  s5      1000 non-null   object\n",
      "dtypes: object(11)\n",
      "memory usage: 86.1+ KB\n"
     ]
    }
   ],
   "source": [
    "df3 = pd.read_csv(\"./f1.csv\", dtype=str)\n",
    "df3.info()"
   ]
  },
  {
   "cell_type": "code",
   "execution_count": 70,
   "id": "920e64fe",
   "metadata": {},
   "outputs": [
    {
     "name": "stdout",
     "output_type": "stream",
     "text": [
      "<class 'pandas.core.frame.DataFrame'>\n",
      "RangeIndex: 1000 entries, 0 to 999\n",
      "Data columns (total 11 columns):\n",
      " #   Column  Non-Null Count  Dtype         \n",
      "---  ------  --------------  -----         \n",
      " 0   rollno  1000 non-null   object        \n",
      " 1   name    1000 non-null   object        \n",
      " 2   fname   1000 non-null   object        \n",
      " 3   course  1000 non-null   object        \n",
      " 4   city    751 non-null    object        \n",
      " 5   dob     1000 non-null   datetime64[ns]\n",
      " 6   s1      1000 non-null   int32         \n",
      " 7   s2      1000 non-null   int32         \n",
      " 8   s3      1000 non-null   int32         \n",
      " 9   s4      1000 non-null   int32         \n",
      " 10  s5      1000 non-null   int32         \n",
      "dtypes: datetime64[ns](1), int32(5), object(5)\n",
      "memory usage: 66.5+ KB\n"
     ]
    }
   ],
   "source": [
    "df3.info()"
   ]
  },
  {
   "cell_type": "markdown",
   "id": "4854925f",
   "metadata": {},
   "source": [
    "# Type casting in Pandas"
   ]
  },
  {
   "cell_type": "code",
   "execution_count": 69,
   "id": "52fa1234",
   "metadata": {},
   "outputs": [],
   "source": [
    "df3.s1 = df3.s1.astype(np.int32)\n",
    "df3.s2 = df3.s2.astype(np.int32)\n",
    "df3.s3 = df3.s3.astype(np.int32)\n",
    "df3.s4 = df3.s4.astype(np.int32)\n",
    "df3.s5 = df3.s5.astype(np.int32)\n",
    "\n",
    "df3['dob'] = pd.to_datetime(df3['dob'])"
   ]
  },
  {
   "cell_type": "code",
   "execution_count": 63,
   "id": "20916c13",
   "metadata": {},
   "outputs": [
    {
     "data": {
      "text/plain": [
       "0      62\n",
       "1      10\n",
       "2      24\n",
       "3      45\n",
       "4      78\n",
       "       ..\n",
       "995     9\n",
       "996    84\n",
       "997    70\n",
       "998     4\n",
       "999    73\n",
       "Name: s5, Length: 1000, dtype: int64"
      ]
     },
     "execution_count": 63,
     "metadata": {},
     "output_type": "execute_result"
    }
   ],
   "source": [
    "df1.s5"
   ]
  },
  {
   "cell_type": "code",
   "execution_count": 71,
   "id": "26cc3e38",
   "metadata": {},
   "outputs": [
    {
     "data": {
      "text/html": [
       "<div>\n",
       "<style scoped>\n",
       "    .dataframe tbody tr th:only-of-type {\n",
       "        vertical-align: middle;\n",
       "    }\n",
       "\n",
       "    .dataframe tbody tr th {\n",
       "        vertical-align: top;\n",
       "    }\n",
       "\n",
       "    .dataframe thead th {\n",
       "        text-align: right;\n",
       "    }\n",
       "</style>\n",
       "<table border=\"1\" class=\"dataframe\">\n",
       "  <thead>\n",
       "    <tr style=\"text-align: right;\">\n",
       "      <th></th>\n",
       "      <th>rollno</th>\n",
       "      <th>name</th>\n",
       "      <th>fname</th>\n",
       "      <th>course</th>\n",
       "      <th>city</th>\n",
       "      <th>dob</th>\n",
       "      <th>s1</th>\n",
       "      <th>s2</th>\n",
       "      <th>s3</th>\n",
       "      <th>s4</th>\n",
       "      <th>s5</th>\n",
       "    </tr>\n",
       "  </thead>\n",
       "  <tbody>\n",
       "    <tr>\n",
       "      <th>0</th>\n",
       "      <td>1</td>\n",
       "      <td>Hamza</td>\n",
       "      <td>Asif</td>\n",
       "      <td>AI</td>\n",
       "      <td>None</td>\n",
       "      <td>1951-09-22</td>\n",
       "      <td>89</td>\n",
       "      <td>99</td>\n",
       "      <td>59</td>\n",
       "      <td>99</td>\n",
       "      <td>62</td>\n",
       "    </tr>\n",
       "    <tr>\n",
       "      <th>1</th>\n",
       "      <td>2</td>\n",
       "      <td>Hamza</td>\n",
       "      <td>Junaid</td>\n",
       "      <td>DS</td>\n",
       "      <td>LHR</td>\n",
       "      <td>1989-03-17</td>\n",
       "      <td>92</td>\n",
       "      <td>6</td>\n",
       "      <td>97</td>\n",
       "      <td>74</td>\n",
       "      <td>10</td>\n",
       "    </tr>\n",
       "    <tr>\n",
       "      <th>2</th>\n",
       "      <td>3</td>\n",
       "      <td>Junaid</td>\n",
       "      <td>Asif</td>\n",
       "      <td>Blockchain</td>\n",
       "      <td>KHI</td>\n",
       "      <td>1964-05-02</td>\n",
       "      <td>49</td>\n",
       "      <td>37</td>\n",
       "      <td>43</td>\n",
       "      <td>98</td>\n",
       "      <td>24</td>\n",
       "    </tr>\n",
       "    <tr>\n",
       "      <th>3</th>\n",
       "      <td>4</td>\n",
       "      <td>Asif</td>\n",
       "      <td>Asif</td>\n",
       "      <td>DS</td>\n",
       "      <td>None</td>\n",
       "      <td>1993-06-14</td>\n",
       "      <td>98</td>\n",
       "      <td>32</td>\n",
       "      <td>52</td>\n",
       "      <td>37</td>\n",
       "      <td>45</td>\n",
       "    </tr>\n",
       "    <tr>\n",
       "      <th>4</th>\n",
       "      <td>5</td>\n",
       "      <td>Asif</td>\n",
       "      <td>Ali</td>\n",
       "      <td>AI</td>\n",
       "      <td>ISL</td>\n",
       "      <td>1982-03-07</td>\n",
       "      <td>72</td>\n",
       "      <td>33</td>\n",
       "      <td>7</td>\n",
       "      <td>35</td>\n",
       "      <td>78</td>\n",
       "    </tr>\n",
       "    <tr>\n",
       "      <th>...</th>\n",
       "      <td>...</td>\n",
       "      <td>...</td>\n",
       "      <td>...</td>\n",
       "      <td>...</td>\n",
       "      <td>...</td>\n",
       "      <td>...</td>\n",
       "      <td>...</td>\n",
       "      <td>...</td>\n",
       "      <td>...</td>\n",
       "      <td>...</td>\n",
       "      <td>...</td>\n",
       "    </tr>\n",
       "    <tr>\n",
       "      <th>995</th>\n",
       "      <td>996</td>\n",
       "      <td>Junaid</td>\n",
       "      <td>Junaid</td>\n",
       "      <td>ML</td>\n",
       "      <td>LHR</td>\n",
       "      <td>1958-08-20</td>\n",
       "      <td>44</td>\n",
       "      <td>68</td>\n",
       "      <td>58</td>\n",
       "      <td>11</td>\n",
       "      <td>9</td>\n",
       "    </tr>\n",
       "    <tr>\n",
       "      <th>996</th>\n",
       "      <td>997</td>\n",
       "      <td>Hamza</td>\n",
       "      <td>Junaid</td>\n",
       "      <td>AI</td>\n",
       "      <td>None</td>\n",
       "      <td>1986-05-29</td>\n",
       "      <td>18</td>\n",
       "      <td>15</td>\n",
       "      <td>78</td>\n",
       "      <td>59</td>\n",
       "      <td>84</td>\n",
       "    </tr>\n",
       "    <tr>\n",
       "      <th>997</th>\n",
       "      <td>998</td>\n",
       "      <td>Hamza</td>\n",
       "      <td>Asif</td>\n",
       "      <td>AI</td>\n",
       "      <td>LHR</td>\n",
       "      <td>1963-11-28</td>\n",
       "      <td>34</td>\n",
       "      <td>16</td>\n",
       "      <td>92</td>\n",
       "      <td>26</td>\n",
       "      <td>70</td>\n",
       "    </tr>\n",
       "    <tr>\n",
       "      <th>998</th>\n",
       "      <td>999</td>\n",
       "      <td>Asif</td>\n",
       "      <td>Junaid</td>\n",
       "      <td>ML</td>\n",
       "      <td>ISL</td>\n",
       "      <td>1998-08-19</td>\n",
       "      <td>29</td>\n",
       "      <td>33</td>\n",
       "      <td>68</td>\n",
       "      <td>41</td>\n",
       "      <td>4</td>\n",
       "    </tr>\n",
       "    <tr>\n",
       "      <th>999</th>\n",
       "      <td>1000</td>\n",
       "      <td>Ali</td>\n",
       "      <td>Hamza</td>\n",
       "      <td>AI</td>\n",
       "      <td>None</td>\n",
       "      <td>1968-01-02</td>\n",
       "      <td>65</td>\n",
       "      <td>55</td>\n",
       "      <td>89</td>\n",
       "      <td>70</td>\n",
       "      <td>73</td>\n",
       "    </tr>\n",
       "  </tbody>\n",
       "</table>\n",
       "<p>1000 rows × 11 columns</p>\n",
       "</div>"
      ],
      "text/plain": [
       "     rollno    name   fname      course  city        dob  s1  s2  s3  s4  s5\n",
       "0         1   Hamza    Asif          AI  None 1951-09-22  89  99  59  99  62\n",
       "1         2   Hamza  Junaid          DS   LHR 1989-03-17  92   6  97  74  10\n",
       "2         3  Junaid    Asif  Blockchain   KHI 1964-05-02  49  37  43  98  24\n",
       "3         4    Asif    Asif          DS  None 1993-06-14  98  32  52  37  45\n",
       "4         5    Asif     Ali          AI   ISL 1982-03-07  72  33   7  35  78\n",
       "..      ...     ...     ...         ...   ...        ...  ..  ..  ..  ..  ..\n",
       "995     996  Junaid  Junaid          ML   LHR 1958-08-20  44  68  58  11   9\n",
       "996     997   Hamza  Junaid          AI  None 1986-05-29  18  15  78  59  84\n",
       "997     998   Hamza    Asif          AI   LHR 1963-11-28  34  16  92  26  70\n",
       "998     999    Asif  Junaid          ML   ISL 1998-08-19  29  33  68  41   4\n",
       "999    1000     Ali   Hamza          AI  None 1968-01-02  65  55  89  70  73\n",
       "\n",
       "[1000 rows x 11 columns]"
      ]
     },
     "execution_count": 71,
     "metadata": {},
     "output_type": "execute_result"
    }
   ],
   "source": [
    "df1"
   ]
  },
  {
   "cell_type": "code",
   "execution_count": 76,
   "id": "00866fb4",
   "metadata": {},
   "outputs": [
    {
     "data": {
      "text/html": [
       "<div>\n",
       "<style scoped>\n",
       "    .dataframe tbody tr th:only-of-type {\n",
       "        vertical-align: middle;\n",
       "    }\n",
       "\n",
       "    .dataframe tbody tr th {\n",
       "        vertical-align: top;\n",
       "    }\n",
       "\n",
       "    .dataframe thead th {\n",
       "        text-align: right;\n",
       "    }\n",
       "</style>\n",
       "<table border=\"1\" class=\"dataframe\">\n",
       "  <thead>\n",
       "    <tr style=\"text-align: right;\">\n",
       "      <th></th>\n",
       "      <th>rollno</th>\n",
       "      <th>name</th>\n",
       "      <th>fname</th>\n",
       "      <th>course</th>\n",
       "      <th>city</th>\n",
       "      <th>dob</th>\n",
       "      <th>s1</th>\n",
       "      <th>s2</th>\n",
       "      <th>s3</th>\n",
       "      <th>s4</th>\n",
       "      <th>s5</th>\n",
       "      <th>obtained marks</th>\n",
       "      <th>percentage</th>\n",
       "    </tr>\n",
       "  </thead>\n",
       "  <tbody>\n",
       "    <tr>\n",
       "      <th>0</th>\n",
       "      <td>1</td>\n",
       "      <td>Hamza</td>\n",
       "      <td>Asif</td>\n",
       "      <td>AI</td>\n",
       "      <td>None</td>\n",
       "      <td>1951-09-22</td>\n",
       "      <td>89</td>\n",
       "      <td>99</td>\n",
       "      <td>59</td>\n",
       "      <td>99</td>\n",
       "      <td>62</td>\n",
       "      <td>408</td>\n",
       "      <td>81.6</td>\n",
       "    </tr>\n",
       "    <tr>\n",
       "      <th>1</th>\n",
       "      <td>2</td>\n",
       "      <td>Hamza</td>\n",
       "      <td>Junaid</td>\n",
       "      <td>DS</td>\n",
       "      <td>LHR</td>\n",
       "      <td>1989-03-17</td>\n",
       "      <td>92</td>\n",
       "      <td>6</td>\n",
       "      <td>97</td>\n",
       "      <td>74</td>\n",
       "      <td>10</td>\n",
       "      <td>279</td>\n",
       "      <td>55.8</td>\n",
       "    </tr>\n",
       "    <tr>\n",
       "      <th>2</th>\n",
       "      <td>3</td>\n",
       "      <td>Junaid</td>\n",
       "      <td>Asif</td>\n",
       "      <td>Blockchain</td>\n",
       "      <td>KHI</td>\n",
       "      <td>1964-05-02</td>\n",
       "      <td>49</td>\n",
       "      <td>37</td>\n",
       "      <td>43</td>\n",
       "      <td>98</td>\n",
       "      <td>24</td>\n",
       "      <td>251</td>\n",
       "      <td>50.2</td>\n",
       "    </tr>\n",
       "    <tr>\n",
       "      <th>3</th>\n",
       "      <td>4</td>\n",
       "      <td>Asif</td>\n",
       "      <td>Asif</td>\n",
       "      <td>DS</td>\n",
       "      <td>None</td>\n",
       "      <td>1993-06-14</td>\n",
       "      <td>98</td>\n",
       "      <td>32</td>\n",
       "      <td>52</td>\n",
       "      <td>37</td>\n",
       "      <td>45</td>\n",
       "      <td>264</td>\n",
       "      <td>52.8</td>\n",
       "    </tr>\n",
       "    <tr>\n",
       "      <th>4</th>\n",
       "      <td>5</td>\n",
       "      <td>Asif</td>\n",
       "      <td>Ali</td>\n",
       "      <td>AI</td>\n",
       "      <td>ISL</td>\n",
       "      <td>1982-03-07</td>\n",
       "      <td>72</td>\n",
       "      <td>33</td>\n",
       "      <td>7</td>\n",
       "      <td>35</td>\n",
       "      <td>78</td>\n",
       "      <td>225</td>\n",
       "      <td>45.0</td>\n",
       "    </tr>\n",
       "    <tr>\n",
       "      <th>...</th>\n",
       "      <td>...</td>\n",
       "      <td>...</td>\n",
       "      <td>...</td>\n",
       "      <td>...</td>\n",
       "      <td>...</td>\n",
       "      <td>...</td>\n",
       "      <td>...</td>\n",
       "      <td>...</td>\n",
       "      <td>...</td>\n",
       "      <td>...</td>\n",
       "      <td>...</td>\n",
       "      <td>...</td>\n",
       "      <td>...</td>\n",
       "    </tr>\n",
       "    <tr>\n",
       "      <th>995</th>\n",
       "      <td>996</td>\n",
       "      <td>Junaid</td>\n",
       "      <td>Junaid</td>\n",
       "      <td>ML</td>\n",
       "      <td>LHR</td>\n",
       "      <td>1958-08-20</td>\n",
       "      <td>44</td>\n",
       "      <td>68</td>\n",
       "      <td>58</td>\n",
       "      <td>11</td>\n",
       "      <td>9</td>\n",
       "      <td>190</td>\n",
       "      <td>38.0</td>\n",
       "    </tr>\n",
       "    <tr>\n",
       "      <th>996</th>\n",
       "      <td>997</td>\n",
       "      <td>Hamza</td>\n",
       "      <td>Junaid</td>\n",
       "      <td>AI</td>\n",
       "      <td>None</td>\n",
       "      <td>1986-05-29</td>\n",
       "      <td>18</td>\n",
       "      <td>15</td>\n",
       "      <td>78</td>\n",
       "      <td>59</td>\n",
       "      <td>84</td>\n",
       "      <td>254</td>\n",
       "      <td>50.8</td>\n",
       "    </tr>\n",
       "    <tr>\n",
       "      <th>997</th>\n",
       "      <td>998</td>\n",
       "      <td>Hamza</td>\n",
       "      <td>Asif</td>\n",
       "      <td>AI</td>\n",
       "      <td>LHR</td>\n",
       "      <td>1963-11-28</td>\n",
       "      <td>34</td>\n",
       "      <td>16</td>\n",
       "      <td>92</td>\n",
       "      <td>26</td>\n",
       "      <td>70</td>\n",
       "      <td>238</td>\n",
       "      <td>47.6</td>\n",
       "    </tr>\n",
       "    <tr>\n",
       "      <th>998</th>\n",
       "      <td>999</td>\n",
       "      <td>Asif</td>\n",
       "      <td>Junaid</td>\n",
       "      <td>ML</td>\n",
       "      <td>ISL</td>\n",
       "      <td>1998-08-19</td>\n",
       "      <td>29</td>\n",
       "      <td>33</td>\n",
       "      <td>68</td>\n",
       "      <td>41</td>\n",
       "      <td>4</td>\n",
       "      <td>175</td>\n",
       "      <td>35.0</td>\n",
       "    </tr>\n",
       "    <tr>\n",
       "      <th>999</th>\n",
       "      <td>1000</td>\n",
       "      <td>Ali</td>\n",
       "      <td>Hamza</td>\n",
       "      <td>AI</td>\n",
       "      <td>None</td>\n",
       "      <td>1968-01-02</td>\n",
       "      <td>65</td>\n",
       "      <td>55</td>\n",
       "      <td>89</td>\n",
       "      <td>70</td>\n",
       "      <td>73</td>\n",
       "      <td>352</td>\n",
       "      <td>70.4</td>\n",
       "    </tr>\n",
       "  </tbody>\n",
       "</table>\n",
       "<p>1000 rows × 13 columns</p>\n",
       "</div>"
      ],
      "text/plain": [
       "     rollno    name   fname      course  city        dob  s1  s2  s3  s4  s5  \\\n",
       "0         1   Hamza    Asif          AI  None 1951-09-22  89  99  59  99  62   \n",
       "1         2   Hamza  Junaid          DS   LHR 1989-03-17  92   6  97  74  10   \n",
       "2         3  Junaid    Asif  Blockchain   KHI 1964-05-02  49  37  43  98  24   \n",
       "3         4    Asif    Asif          DS  None 1993-06-14  98  32  52  37  45   \n",
       "4         5    Asif     Ali          AI   ISL 1982-03-07  72  33   7  35  78   \n",
       "..      ...     ...     ...         ...   ...        ...  ..  ..  ..  ..  ..   \n",
       "995     996  Junaid  Junaid          ML   LHR 1958-08-20  44  68  58  11   9   \n",
       "996     997   Hamza  Junaid          AI  None 1986-05-29  18  15  78  59  84   \n",
       "997     998   Hamza    Asif          AI   LHR 1963-11-28  34  16  92  26  70   \n",
       "998     999    Asif  Junaid          ML   ISL 1998-08-19  29  33  68  41   4   \n",
       "999    1000     Ali   Hamza          AI  None 1968-01-02  65  55  89  70  73   \n",
       "\n",
       "     obtained marks  percentage  \n",
       "0               408        81.6  \n",
       "1               279        55.8  \n",
       "2               251        50.2  \n",
       "3               264        52.8  \n",
       "4               225        45.0  \n",
       "..              ...         ...  \n",
       "995             190        38.0  \n",
       "996             254        50.8  \n",
       "997             238        47.6  \n",
       "998             175        35.0  \n",
       "999             352        70.4  \n",
       "\n",
       "[1000 rows x 13 columns]"
      ]
     },
     "execution_count": 76,
     "metadata": {},
     "output_type": "execute_result"
    }
   ],
   "source": [
    "df1['obtained marks'] = df1.s1 + df1.s2 + df1.s3 + df1.s4 + df1.s5\n",
    "df1['percentage'] = df1['obtained marks']/500*100\n",
    "df1"
   ]
  },
  {
   "cell_type": "markdown",
   "id": "5dc1c03e",
   "metadata": {},
   "source": [
    "# apply custom function on series"
   ]
  },
  {
   "cell_type": "code",
   "execution_count": 77,
   "id": "4a517d58",
   "metadata": {},
   "outputs": [
    {
     "data": {
      "text/plain": [
       "'A'"
      ]
     },
     "execution_count": 77,
     "metadata": {},
     "output_type": "execute_result"
    }
   ],
   "source": [
    "def grade(per):\n",
    "    grade = None\n",
    "    if per>=80:\n",
    "        grade = \"A+\"\n",
    "    elif per>=70:\n",
    "        grade = \"A\"\n",
    "    elif per>=60:\n",
    "        grade = \"B\"\n",
    "    elif per>=50:\n",
    "        grade = \"C\"\n",
    "    else:\n",
    "        grade = \"Fail\"\n",
    "        \n",
    "    return grade\n",
    "grade(78)"
   ]
  },
  {
   "cell_type": "code",
   "execution_count": 78,
   "id": "1f4e70b6",
   "metadata": {},
   "outputs": [
    {
     "data": {
      "text/html": [
       "<div>\n",
       "<style scoped>\n",
       "    .dataframe tbody tr th:only-of-type {\n",
       "        vertical-align: middle;\n",
       "    }\n",
       "\n",
       "    .dataframe tbody tr th {\n",
       "        vertical-align: top;\n",
       "    }\n",
       "\n",
       "    .dataframe thead th {\n",
       "        text-align: right;\n",
       "    }\n",
       "</style>\n",
       "<table border=\"1\" class=\"dataframe\">\n",
       "  <thead>\n",
       "    <tr style=\"text-align: right;\">\n",
       "      <th></th>\n",
       "      <th>rollno</th>\n",
       "      <th>name</th>\n",
       "      <th>fname</th>\n",
       "      <th>course</th>\n",
       "      <th>city</th>\n",
       "      <th>dob</th>\n",
       "      <th>s1</th>\n",
       "      <th>s2</th>\n",
       "      <th>s3</th>\n",
       "      <th>s4</th>\n",
       "      <th>s5</th>\n",
       "      <th>obtained marks</th>\n",
       "      <th>percentage</th>\n",
       "      <th>Grade</th>\n",
       "    </tr>\n",
       "  </thead>\n",
       "  <tbody>\n",
       "    <tr>\n",
       "      <th>0</th>\n",
       "      <td>1</td>\n",
       "      <td>Hamza</td>\n",
       "      <td>Asif</td>\n",
       "      <td>AI</td>\n",
       "      <td>None</td>\n",
       "      <td>1951-09-22</td>\n",
       "      <td>89</td>\n",
       "      <td>99</td>\n",
       "      <td>59</td>\n",
       "      <td>99</td>\n",
       "      <td>62</td>\n",
       "      <td>408</td>\n",
       "      <td>81.6</td>\n",
       "      <td>A+</td>\n",
       "    </tr>\n",
       "    <tr>\n",
       "      <th>1</th>\n",
       "      <td>2</td>\n",
       "      <td>Hamza</td>\n",
       "      <td>Junaid</td>\n",
       "      <td>DS</td>\n",
       "      <td>LHR</td>\n",
       "      <td>1989-03-17</td>\n",
       "      <td>92</td>\n",
       "      <td>6</td>\n",
       "      <td>97</td>\n",
       "      <td>74</td>\n",
       "      <td>10</td>\n",
       "      <td>279</td>\n",
       "      <td>55.8</td>\n",
       "      <td>C</td>\n",
       "    </tr>\n",
       "    <tr>\n",
       "      <th>2</th>\n",
       "      <td>3</td>\n",
       "      <td>Junaid</td>\n",
       "      <td>Asif</td>\n",
       "      <td>Blockchain</td>\n",
       "      <td>KHI</td>\n",
       "      <td>1964-05-02</td>\n",
       "      <td>49</td>\n",
       "      <td>37</td>\n",
       "      <td>43</td>\n",
       "      <td>98</td>\n",
       "      <td>24</td>\n",
       "      <td>251</td>\n",
       "      <td>50.2</td>\n",
       "      <td>C</td>\n",
       "    </tr>\n",
       "    <tr>\n",
       "      <th>3</th>\n",
       "      <td>4</td>\n",
       "      <td>Asif</td>\n",
       "      <td>Asif</td>\n",
       "      <td>DS</td>\n",
       "      <td>None</td>\n",
       "      <td>1993-06-14</td>\n",
       "      <td>98</td>\n",
       "      <td>32</td>\n",
       "      <td>52</td>\n",
       "      <td>37</td>\n",
       "      <td>45</td>\n",
       "      <td>264</td>\n",
       "      <td>52.8</td>\n",
       "      <td>C</td>\n",
       "    </tr>\n",
       "    <tr>\n",
       "      <th>4</th>\n",
       "      <td>5</td>\n",
       "      <td>Asif</td>\n",
       "      <td>Ali</td>\n",
       "      <td>AI</td>\n",
       "      <td>ISL</td>\n",
       "      <td>1982-03-07</td>\n",
       "      <td>72</td>\n",
       "      <td>33</td>\n",
       "      <td>7</td>\n",
       "      <td>35</td>\n",
       "      <td>78</td>\n",
       "      <td>225</td>\n",
       "      <td>45.0</td>\n",
       "      <td>Fail</td>\n",
       "    </tr>\n",
       "    <tr>\n",
       "      <th>...</th>\n",
       "      <td>...</td>\n",
       "      <td>...</td>\n",
       "      <td>...</td>\n",
       "      <td>...</td>\n",
       "      <td>...</td>\n",
       "      <td>...</td>\n",
       "      <td>...</td>\n",
       "      <td>...</td>\n",
       "      <td>...</td>\n",
       "      <td>...</td>\n",
       "      <td>...</td>\n",
       "      <td>...</td>\n",
       "      <td>...</td>\n",
       "      <td>...</td>\n",
       "    </tr>\n",
       "    <tr>\n",
       "      <th>995</th>\n",
       "      <td>996</td>\n",
       "      <td>Junaid</td>\n",
       "      <td>Junaid</td>\n",
       "      <td>ML</td>\n",
       "      <td>LHR</td>\n",
       "      <td>1958-08-20</td>\n",
       "      <td>44</td>\n",
       "      <td>68</td>\n",
       "      <td>58</td>\n",
       "      <td>11</td>\n",
       "      <td>9</td>\n",
       "      <td>190</td>\n",
       "      <td>38.0</td>\n",
       "      <td>Fail</td>\n",
       "    </tr>\n",
       "    <tr>\n",
       "      <th>996</th>\n",
       "      <td>997</td>\n",
       "      <td>Hamza</td>\n",
       "      <td>Junaid</td>\n",
       "      <td>AI</td>\n",
       "      <td>None</td>\n",
       "      <td>1986-05-29</td>\n",
       "      <td>18</td>\n",
       "      <td>15</td>\n",
       "      <td>78</td>\n",
       "      <td>59</td>\n",
       "      <td>84</td>\n",
       "      <td>254</td>\n",
       "      <td>50.8</td>\n",
       "      <td>C</td>\n",
       "    </tr>\n",
       "    <tr>\n",
       "      <th>997</th>\n",
       "      <td>998</td>\n",
       "      <td>Hamza</td>\n",
       "      <td>Asif</td>\n",
       "      <td>AI</td>\n",
       "      <td>LHR</td>\n",
       "      <td>1963-11-28</td>\n",
       "      <td>34</td>\n",
       "      <td>16</td>\n",
       "      <td>92</td>\n",
       "      <td>26</td>\n",
       "      <td>70</td>\n",
       "      <td>238</td>\n",
       "      <td>47.6</td>\n",
       "      <td>Fail</td>\n",
       "    </tr>\n",
       "    <tr>\n",
       "      <th>998</th>\n",
       "      <td>999</td>\n",
       "      <td>Asif</td>\n",
       "      <td>Junaid</td>\n",
       "      <td>ML</td>\n",
       "      <td>ISL</td>\n",
       "      <td>1998-08-19</td>\n",
       "      <td>29</td>\n",
       "      <td>33</td>\n",
       "      <td>68</td>\n",
       "      <td>41</td>\n",
       "      <td>4</td>\n",
       "      <td>175</td>\n",
       "      <td>35.0</td>\n",
       "      <td>Fail</td>\n",
       "    </tr>\n",
       "    <tr>\n",
       "      <th>999</th>\n",
       "      <td>1000</td>\n",
       "      <td>Ali</td>\n",
       "      <td>Hamza</td>\n",
       "      <td>AI</td>\n",
       "      <td>None</td>\n",
       "      <td>1968-01-02</td>\n",
       "      <td>65</td>\n",
       "      <td>55</td>\n",
       "      <td>89</td>\n",
       "      <td>70</td>\n",
       "      <td>73</td>\n",
       "      <td>352</td>\n",
       "      <td>70.4</td>\n",
       "      <td>A</td>\n",
       "    </tr>\n",
       "  </tbody>\n",
       "</table>\n",
       "<p>1000 rows × 14 columns</p>\n",
       "</div>"
      ],
      "text/plain": [
       "     rollno    name   fname      course  city        dob  s1  s2  s3  s4  s5  \\\n",
       "0         1   Hamza    Asif          AI  None 1951-09-22  89  99  59  99  62   \n",
       "1         2   Hamza  Junaid          DS   LHR 1989-03-17  92   6  97  74  10   \n",
       "2         3  Junaid    Asif  Blockchain   KHI 1964-05-02  49  37  43  98  24   \n",
       "3         4    Asif    Asif          DS  None 1993-06-14  98  32  52  37  45   \n",
       "4         5    Asif     Ali          AI   ISL 1982-03-07  72  33   7  35  78   \n",
       "..      ...     ...     ...         ...   ...        ...  ..  ..  ..  ..  ..   \n",
       "995     996  Junaid  Junaid          ML   LHR 1958-08-20  44  68  58  11   9   \n",
       "996     997   Hamza  Junaid          AI  None 1986-05-29  18  15  78  59  84   \n",
       "997     998   Hamza    Asif          AI   LHR 1963-11-28  34  16  92  26  70   \n",
       "998     999    Asif  Junaid          ML   ISL 1998-08-19  29  33  68  41   4   \n",
       "999    1000     Ali   Hamza          AI  None 1968-01-02  65  55  89  70  73   \n",
       "\n",
       "     obtained marks  percentage Grade  \n",
       "0               408        81.6    A+  \n",
       "1               279        55.8     C  \n",
       "2               251        50.2     C  \n",
       "3               264        52.8     C  \n",
       "4               225        45.0  Fail  \n",
       "..              ...         ...   ...  \n",
       "995             190        38.0  Fail  \n",
       "996             254        50.8     C  \n",
       "997             238        47.6  Fail  \n",
       "998             175        35.0  Fail  \n",
       "999             352        70.4     A  \n",
       "\n",
       "[1000 rows x 14 columns]"
      ]
     },
     "execution_count": 78,
     "metadata": {},
     "output_type": "execute_result"
    }
   ],
   "source": [
    "df1['Grade'] = df1['percentage'].apply(grade)\n",
    "df1"
   ]
  },
  {
   "cell_type": "code",
   "execution_count": null,
   "id": "bb096a0d",
   "metadata": {},
   "outputs": [],
   "source": []
  }
 ],
 "metadata": {
  "kernelspec": {
   "display_name": "Python 3",
   "language": "python",
   "name": "python3"
  },
  "language_info": {
   "codemirror_mode": {
    "name": "ipython",
    "version": 3
   },
   "file_extension": ".py",
   "mimetype": "text/x-python",
   "name": "python",
   "nbconvert_exporter": "python",
   "pygments_lexer": "ipython3",
   "version": "3.7.15"
  }
 },
 "nbformat": 4,
 "nbformat_minor": 5
}
